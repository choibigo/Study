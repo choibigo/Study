{
 "cells": [
  {
   "cell_type": "markdown",
   "metadata": {},
   "source": [
    "## 재사용 가능한 try/finally 동작을 원한다면 contextlib과 with문을 사용해라\n",
    "- with문은 코드가 특별한 context안에서 실행되는 경우를 표현한다.\n",
    "- contextlib 내장 모듈을 사용하면 객체나 함수를 with문에서 쉽게 쓸 수 있다.\n",
    "- contextlib 모듈은 with 문에 쓸 수 있는 함수를 간단히 만들수 있는 contextmanager 데코레이터를 제공한다."
   ]
  },
  {
   "cell_type": "code",
   "execution_count": 10,
   "metadata": {},
   "outputs": [
    {
     "name": "stderr",
     "output_type": "stream",
     "text": [
      "DEBUG:root:디버깅 데이터\n",
      "ERROR:root:에러 로그\n",
      "DEBUG:root:추가 디버깅 데이터\n",
      "DEBUG:root:디버깅 데이터\n",
      "ERROR:root:에러 로그\n",
      "DEBUG:root:추가 디버깅 데이터\n"
     ]
    },
    {
     "name": "stdout",
     "output_type": "stream",
     "text": [
      "내부\n",
      "닫음\n",
      "외부\n"
     ]
    }
   ],
   "source": [
    "import logging\n",
    "from contextlib import contextmanager\n",
    "\n",
    "def my_function():\n",
    "    logging.debug('디버깅 데이터')\n",
    "    logging.error('에러 로그')\n",
    "    logging.debug('추가 디버깅 데이터')\n",
    "\n",
    "@contextmanager\n",
    "def debug_logging(level):\n",
    "    logger = logging.getLogger()\n",
    "    logger.setLevel(level)\n",
    "    try:\n",
    "        yield\n",
    "    finally:\n",
    "        # with문이 끝날떄 실행되는 블록\n",
    "        logger.setLevel(logger.getEffectiveLevel())\n",
    "\n",
    "with debug_logging(logging.DEBUG):\n",
    "    print('내부')\n",
    "    my_function()\n",
    "\n",
    "\n",
    "print('외부')\n",
    "my_function() #기본 수준은 warning이기 때문에 error 로그만 출력 된다."
   ]
  },
  {
   "cell_type": "markdown",
   "metadata": {},
   "source": [
    "#### with와 대상 변수 함꼐 사용하기\n",
    "- with 문에 전달된 컨텍스트 매니저가 객체를 반환할 수도 있다.\n",
    "- 이렇게 반환된 객체는 with 복합문의 일부로 지정된 지역변수에 대입 된다.\n",
    "```py\n",
    "with open('my.txt', 'w') as handle:\n",
    "    handle.write('데이터 입니다.') \n",
    "```\n",
    "- open을 전달 하면 as문을 통해 지정된 변수에게 파일 핸들을 전달 하고 with문을 빠져 나가면 핸들을 닫는다.\n",
    "- 이러한 방식이 매변 수동으로 열고 닫는 것보다 더 파이썬 다운 방식이다.\n",
    "- with문의 변수를 변경하여 로그의 이름과 레벨을 변경하여 with문 내에서 사용할 수 있다.\n",
    "- logger level을 변경 하여 출력이 가능하다.\n"
   ]
  },
  {
   "cell_type": "code",
   "execution_count": 22,
   "metadata": {},
   "outputs": [
    {
     "name": "stderr",
     "output_type": "stream",
     "text": [
      "DEBUG:my-log:대상: my-log!\n",
      "DEBUG:root:이 메시지는 출력되지 않는다.\n"
     ]
    }
   ],
   "source": [
    "import logging\n",
    "from contextlib import contextmanager\n",
    "\n",
    "@contextmanager\n",
    "def log_level(level, name):\n",
    "    logger = logging.getLogger(name)\n",
    "    old_level = logger.getEffectiveLevel()\n",
    "    logger.setLevel(level)\n",
    "\n",
    "    try:\n",
    "        yield logger\n",
    "    finally:\n",
    "        logger.setLevel(old_level)\n",
    "\n",
    "with log_level(logging.DEBUG, 'my-log') as logger:\n",
    "    logger.debug(f\"대상: {logger.name}!\")\n",
    "    \n",
    "logging.debug('이 메시지는 출력되지 않는다.')\n",
    "    "
   ]
  }
 ],
 "metadata": {
  "kernelspec": {
   "display_name": "Python 3.7.4 64-bit",
   "language": "python",
   "name": "python3"
  },
  "language_info": {
   "codemirror_mode": {
    "name": "ipython",
    "version": 3
   },
   "file_extension": ".py",
   "mimetype": "text/x-python",
   "name": "python",
   "nbconvert_exporter": "python",
   "pygments_lexer": "ipython3",
   "version": "3.7.4"
  },
  "orig_nbformat": 4,
  "vscode": {
   "interpreter": {
    "hash": "58c01752f11c7f6d52b82648334e3d317dda8878636542d14ba423b2a8cd8757"
   }
  }
 },
 "nbformat": 4,
 "nbformat_minor": 2
}
