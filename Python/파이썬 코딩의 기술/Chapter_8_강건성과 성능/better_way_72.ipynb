{
 "cells": [
  {
   "cell_type": "markdown",
   "metadata": {},
   "source": [
    "## 정렬된 시퀀스를 검색할 때는 bisect를 사용하라\n",
    "- 리스트에서 index 함수(원소 값에 해당하는 index를 반환)를 사용해 특정 값을 찾아내려면 리스트 길이에 선형으로 비례하는 시간이 걸린다.\n",
    "- 정렬된 경우 이진 검색을 통해 효율적으로 검색할 수 있다.\n",
    "- 리스트에 값이 있는 경우 index를 반환하고 값의 원소가 존재하지 않는 경우 정렬 순서상 해당값을 삽입해야할 자리의 인덱스이다.\n"
   ]
  },
  {
   "cell_type": "code",
   "execution_count": 9,
   "metadata": {},
   "outputs": [
    {
     "name": "stdout",
     "output_type": "stream",
     "text": [
      "5\n"
     ]
    }
   ],
   "source": [
    "from bisect import bisect_left\n",
    "\n",
    "data = [1,5,6,12,91234, 912341]\n",
    "index = data.index(91234)\n",
    "b_index = bisect_left(data, 91234)\n",
    "assert index == b_index\n",
    "\n",
    "b_index = bisect_left(data, 91235) #값이 없는 경우 삽입되야할 인덱스 \n",
    "print(b_index)\n",
    "\n",
    "\n"
   ]
  }
 ],
 "metadata": {
  "kernelspec": {
   "display_name": "Python 3.7.4 64-bit",
   "language": "python",
   "name": "python3"
  },
  "language_info": {
   "codemirror_mode": {
    "name": "ipython",
    "version": 3
   },
   "file_extension": ".py",
   "mimetype": "text/x-python",
   "name": "python",
   "nbconvert_exporter": "python",
   "pygments_lexer": "ipython3",
   "version": "3.7.4"
  },
  "orig_nbformat": 4,
  "vscode": {
   "interpreter": {
    "hash": "58c01752f11c7f6d52b82648334e3d317dda8878636542d14ba423b2a8cd8757"
   }
  }
 },
 "nbformat": 4,
 "nbformat_minor": 2
}
