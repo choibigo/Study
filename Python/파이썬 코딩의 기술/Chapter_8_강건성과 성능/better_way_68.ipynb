{
 "cells": [
  {
   "cell_type": "markdown",
   "metadata": {},
   "source": [
    "## copyreg를 사용해 pickle을 더 신뢰성있게 만들어라\n",
    "- pickle 내장 모듈을 사용하면 파이썬 객체를 바이트 스트림으로 직렬화 하거나 바이트 스트림을 파이썬 객체로 역직렬화 할 수 있다.\n",
    "- 피클된 파이트 스트림은 서로 신뢰할 수 없는 당사자 사이의 통신에 사용하면 안된다.\n",
    "- 피클의 목적은 프로그램들 사이 이진 채널을 통해 서로 파이썬 객체를 넘기는데 있다."
   ]
  },
  {
   "cell_type": "code",
   "execution_count": 2,
   "metadata": {},
   "outputs": [
    {
     "name": "stdout",
     "output_type": "stream",
     "text": [
      "{'level': 5, 'lives': 1}\n"
     ]
    }
   ],
   "source": [
    "import pickle\n",
    "\n",
    "class GameState:\n",
    "    def __init__(self):\n",
    "        self.level = 0\n",
    "        self.lives = 4\n",
    "\n",
    "character1 = GameState()\n",
    "character1.level +=5\n",
    "character1.lives =1\n",
    "\n",
    "state_path = 'game_stat.bin'\n",
    "with open(state_path, 'wb') as f:\n",
    "    pickle.dump(character1, f)\n",
    "\n",
    "with open(state_path, 'rb') as f:\n",
    "    state_after = pickle.load(f)\n",
    "\n",
    "print(state_after.__dict__)"
   ]
  },
  {
   "cell_type": "code",
   "execution_count": 8,
   "metadata": {},
   "outputs": [
    {
     "name": "stdout",
     "output_type": "stream",
     "text": [
      "{'level': 5, 'lives': 1}\n"
     ]
    }
   ],
   "source": [
    "class GameState:\n",
    "    def __init__(self):\n",
    "        self.level = 0\n",
    "        self.lives = 4\n",
    "        self.points = 0\n",
    "\n",
    "with open(state_path, 'rb') as f:\n",
    "    state_after = pickle.load(f)\n",
    "\n",
    "print(state_after.__dict__)\n",
    "\n",
    "assert isinstance(state_after, GameState)\n",
    "# state_after에는 이전 객체 정보만 담겨 있지만 클래스 자체는 동일하다고 판단한다.\n"
   ]
  },
  {
   "cell_type": "markdown",
   "metadata": {},
   "source": [
    "#### 디폴트 애트리뷰터 값\n",
    "- 생성자의 디폴트 값을 지정한다.\n",
    "- unpickle하는 도우미 함수를 정의해서 역질려화한 객체를 인자로 하는 새로운 객체를 생성한다.\n",
    "- 이떄 디폴트 값이 있기 떄문에 애트리뷰트가 사라지지 않는다."
   ]
  },
  {
   "cell_type": "code",
   "execution_count": 13,
   "metadata": {},
   "outputs": [
    {
     "name": "stdout",
     "output_type": "stream",
     "text": [
      "{'level': 0, 'lives': 4, 'points': 0}\n"
     ]
    }
   ],
   "source": [
    "class GameState:\n",
    "    def __init__(self, level=0, lives=4, points=0):\n",
    "        self.level = 0\n",
    "        self.lives = 4\n",
    "        self.points = 0\n",
    "\n",
    "def unpickle_game_state(kwargs):\n",
    "    return GameState(**kwargs)\n",
    "\n",
    "with open(state_path, 'rb') as f:\n",
    "    state_after = pickle.load(f)\n",
    "    kwargs = state_after.__dict__\n",
    "    state_after = unpickle_game_state(kwargs)\n",
    "\n",
    "print(state_after.__dict__)\n",
    "assert isinstance(state_after, GameState)\n"
   ]
  },
  {
   "cell_type": "markdown",
   "metadata": {},
   "source": [
    "#### 클래스 버전 지정\n",
    "- 객체의 필드가 삭제 되는 경우에는 디폴트 인자를 사용하는 방법으로 접근할 수 없다.\n",
    "- 역직렬화시 버전을 확인후 버전에 맞는 방식으로 객체를 생성한다."
   ]
  },
  {
   "cell_type": "code",
   "execution_count": 22,
   "metadata": {},
   "outputs": [
    {
     "name": "stdout",
     "output_type": "stream",
     "text": [
      "{'level': 0}\n"
     ]
    }
   ],
   "source": [
    "class GameState:\n",
    "    def __init__(self, level=0):\n",
    "        self.level = 0\n",
    "\n",
    "def unpickle_game_state(kwargs):\n",
    "    version = kwargs.pop('version', 1)\n",
    "    if version == 0:\n",
    "        del kwargs['lives']\n",
    "    return GameState(**kwargs)\n",
    "\n",
    "with open(state_path, 'rb') as f:\n",
    "    state_after = pickle.load(f)\n",
    "    kwargs = state_after.__dict__\n",
    "    kwargs['version'] = 0\n",
    "    state_after = unpickle_game_state(kwargs)\n",
    "\n",
    "print(state_after.__dict__)\n",
    "assert isinstance(state_after, GameState)\n"
   ]
  },
  {
   "cell_type": "markdown",
   "metadata": {},
   "source": [
    "#### 안정적인 임포트 경로\n",
    "- 클래스 이름이 바뀌어 코드가 깨지는 경우를 들 수 있다.\n",
    "- 클래스명이 변경 되거나 클래스가 다른 모듈로 옮겨지는 경우 가 있다.\n",
    "- 이름이 변경 되는 경우 역직렬화시 기존 클래스가 없기 때문에 에러를 발생한다.\n",
    "- 피클된 데이터 안에 직렬화한 클래스의 임포트 경로가 들어 있기 때문이다.\n",
    "- copyreg를 쓰는 것이 해결 방법이 될 수 있다.\n",
    "- copyreg를 통해 역직렬화시 사용할 함수에 대해 안정적인 식별자를 지정할 수 있다."
   ]
  },
  {
   "cell_type": "code",
   "execution_count": 46,
   "metadata": {},
   "outputs": [
    {
     "ename": "TypeError",
     "evalue": "__init__() got an unexpected keyword argument 'dummy'",
     "output_type": "error",
     "traceback": [
      "\u001b[1;31m---------------------------------------------------------------------------\u001b[0m",
      "\u001b[1;31mTypeError\u001b[0m                                 Traceback (most recent call last)",
      "\u001b[1;32m~\\AppData\\Local\\Temp\\ipykernel_11784\\3225174979.py\u001b[0m in \u001b[0;36m<module>\u001b[1;34m\u001b[0m\n\u001b[0;32m     25\u001b[0m \u001b[0mcopyreg\u001b[0m\u001b[1;33m.\u001b[0m\u001b[0mpickle\u001b[0m\u001b[1;33m(\u001b[0m\u001b[0mStudent\u001b[0m\u001b[1;33m,\u001b[0m \u001b[0mpickle_student\u001b[0m\u001b[1;33m)\u001b[0m\u001b[1;33m\u001b[0m\u001b[1;33m\u001b[0m\u001b[0m\n\u001b[0;32m     26\u001b[0m \u001b[1;32mwith\u001b[0m \u001b[0mopen\u001b[0m\u001b[1;33m(\u001b[0m\u001b[1;34m'student.p'\u001b[0m\u001b[1;33m,\u001b[0m \u001b[1;34m'rb'\u001b[0m\u001b[1;33m)\u001b[0m \u001b[1;32mas\u001b[0m \u001b[0mf\u001b[0m\u001b[1;33m:\u001b[0m\u001b[1;33m\u001b[0m\u001b[1;33m\u001b[0m\u001b[0m\n\u001b[1;32m---> 27\u001b[1;33m     \u001b[0mstudent\u001b[0m \u001b[1;33m=\u001b[0m \u001b[0mpickle\u001b[0m\u001b[1;33m.\u001b[0m\u001b[0mload\u001b[0m\u001b[1;33m(\u001b[0m\u001b[0mf\u001b[0m\u001b[1;33m)\u001b[0m  \u001b[1;31m# unpickle_student() 함수를 호출한다.\u001b[0m\u001b[1;33m\u001b[0m\u001b[1;33m\u001b[0m\u001b[0m\n\u001b[0m",
      "\u001b[1;32m~\\AppData\\Local\\Temp\\ipykernel_11784\\3225174979.py\u001b[0m in \u001b[0;36munpickle_student\u001b[1;34m(kwargs)\u001b[0m\n\u001b[0;32m     16\u001b[0m \u001b[1;33m\u001b[0m\u001b[0m\n\u001b[0;32m     17\u001b[0m \u001b[1;32mdef\u001b[0m \u001b[0munpickle_student\u001b[0m\u001b[1;33m(\u001b[0m\u001b[0mkwargs\u001b[0m\u001b[1;33m)\u001b[0m\u001b[1;33m:\u001b[0m\u001b[1;33m\u001b[0m\u001b[1;33m\u001b[0m\u001b[0m\n\u001b[1;32m---> 18\u001b[1;33m     \u001b[1;32mreturn\u001b[0m \u001b[0mStudent\u001b[0m\u001b[1;33m(\u001b[0m\u001b[1;33m**\u001b[0m\u001b[0mkwargs\u001b[0m\u001b[1;33m)\u001b[0m\u001b[1;33m\u001b[0m\u001b[1;33m\u001b[0m\u001b[0m\n\u001b[0m\u001b[0;32m     19\u001b[0m \u001b[1;33m\u001b[0m\u001b[0m\n\u001b[0;32m     20\u001b[0m \u001b[0mcopyreg\u001b[0m\u001b[1;33m.\u001b[0m\u001b[0mpickle\u001b[0m\u001b[1;33m(\u001b[0m\u001b[0mStudent\u001b[0m\u001b[1;33m,\u001b[0m \u001b[0mpickle_student\u001b[0m\u001b[1;33m)\u001b[0m\u001b[1;33m\u001b[0m\u001b[1;33m\u001b[0m\u001b[0m\n",
      "\u001b[1;31mTypeError\u001b[0m: __init__() got an unexpected keyword argument 'dummy'"
     ]
    }
   ],
   "source": [
    "import pickle\n",
    "import copyreg\n",
    "\n",
    "\n",
    "class Student:\n",
    "    def __init__(self, name, age):\n",
    "        self.name = name\n",
    "        self.age = age\n",
    "        self.dummy = 'dummy'  # dummy 속성을 새로 추가!\n",
    "\n",
    "\n",
    "def pickle_student(student):\n",
    "    kwargs = student.__dict__\n",
    "    return unpickle_student, (kwargs, )\n",
    "\n",
    "\n",
    "def unpickle_student(kwargs):\n",
    "    return Student(**kwargs)\n",
    "\n",
    "copyreg.pickle(Student, pickle_student)\n",
    "a = Student('임철희', 27)\n",
    "with open('student.p', 'wb') as f:\n",
    "    pickle.dump(a, f)\n",
    "\n",
    "copyreg.pickle(Student, pickle_student)\n",
    "with open('student.p', 'rb') as f:\n",
    "    student = pickle.load(f)  # unpickle_student() 함수를 호출한다."
   ]
  }
 ],
 "metadata": {
  "kernelspec": {
   "display_name": "Python 3.7.4 64-bit",
   "language": "python",
   "name": "python3"
  },
  "language_info": {
   "codemirror_mode": {
    "name": "ipython",
    "version": 3
   },
   "file_extension": ".py",
   "mimetype": "text/x-python",
   "name": "python",
   "nbconvert_exporter": "python",
   "pygments_lexer": "ipython3",
   "version": "3.7.4"
  },
  "orig_nbformat": 4,
  "vscode": {
   "interpreter": {
    "hash": "58c01752f11c7f6d52b82648334e3d317dda8878636542d14ba423b2a8cd8757"
   }
  }
 },
 "nbformat": 4,
 "nbformat_minor": 2
}
