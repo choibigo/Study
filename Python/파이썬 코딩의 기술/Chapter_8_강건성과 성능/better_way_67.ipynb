{
 "cells": [
  {
   "cell_type": "markdown",
   "metadata": {},
   "source": [
    "## 지역 시간에는 time보다는 datatime을 사용하라\n",
    "- UTC는 시간대와 독립적으로 시간을 나타낼 떄 쓰는 표준이다.\n",
    "- 시간을 표현하는 컴퓨터는 UTC를 잘 처리 할 수 있다.\n",
    "- 하지만 현재 위치를 기준으로 시간을 따지는 인간에게 UTC는 정당하지 않다."
   ]
  },
  {
   "cell_type": "markdown",
   "metadata": {},
   "source": [
    "#### Time 모듈\n",
    "- time 내장 모듈에 있는 localtime함수를 사용해 유닉스 타입스탬프(UTC로 된 유닉스 기준 시간으로부터 몇초가 흘렀는지)를 호스트 컴퓨터의 시간대에 맞는 지역시간 으로 변환한다.\n",
    "- 지역 시간은 strftime 함수를 사용해 사람이 이해하기 쉬운 표현으로 변환한다.\n",
    "- time 모듈은 플랫폼에 따라 다르게 동작한다.\n",
    "- time 모듈의 동작은 호스트 운영체제의 c함수가 어떻게 동작하는지에 따라 달라 진다.\n",
    "- 따라서 time 모듈은 신뢰할 수 없다."
   ]
  },
  {
   "cell_type": "code",
   "execution_count": null,
   "metadata": {},
   "outputs": [],
   "source": [
    "import time\n",
    "now = 1598523184\n",
    "local_tuple = time.localtime(now)\n",
    "time_format = '%Y-%m-%d %H:%M:%S'\n",
    "time_str = time.strftime(time_format, local_tuple)\n",
    "print(time_str)\n",
    "\n",
    "\n",
    "time_tuple = time.strptime(time_str, time_format)\n",
    "utc_now = time.mktime(time_tuple)\n",
    "print(utc_now)"
   ]
  },
  {
   "cell_type": "markdown",
   "metadata": {},
   "source": [
    "#### datetime 모듈\n",
    "- time 모듈과 마찬가지로 datetime을 사용하면 UTC나 지역 시간등 여러 시간대에 속한 시간을 상호 변화할 수 있다.\n",
    "- time 모듈과 달리 datetime 모듈은 한 지역 시간을 다른 지역 시간으로 바꾸는 신뢰할 수 있는 기능을 제공한다.\n",
    "- 또한 시간을 UTC로 표시하고 최정적으로 표현하기 직전에 지역시간으로 변경하라"
   ]
  },
  {
   "cell_type": "code",
   "execution_count": 6,
   "metadata": {},
   "outputs": [
    {
     "name": "stdout",
     "output_type": "stream",
     "text": [
      "2020-08-27 19:13:04+09:00\n",
      "1598523184.0\n"
     ]
    }
   ],
   "source": [
    "from datetime import datetime, timezone\n",
    "\n",
    "now = datetime(2020, 8, 27, 10, 13, 4)\n",
    "now_utc = now.replace(tzinfo=timezone.utc) # 시간대를 UTC로 강제 지정\n",
    "now_local = now_utc.astimezone() # UTC 시간을 디폴트 시간대로 변경\n",
    "print(now_local)\n",
    "\n",
    "time_str = '2020-08-27 19:13:04'\n",
    "now = datetime.strptime(time_str, time_format)\n",
    "time_tuple = now.timetuple()\n",
    "utc_now = time.mktime(time_tuple)\n",
    "print(utc_now)\n"
   ]
  }
 ],
 "metadata": {
  "kernelspec": {
   "display_name": "Python 3.7.4 64-bit",
   "language": "python",
   "name": "python3"
  },
  "language_info": {
   "codemirror_mode": {
    "name": "ipython",
    "version": 3
   },
   "file_extension": ".py",
   "mimetype": "text/x-python",
   "name": "python",
   "nbconvert_exporter": "python",
   "pygments_lexer": "ipython3",
   "version": "3.7.4"
  },
  "orig_nbformat": 4,
  "vscode": {
   "interpreter": {
    "hash": "58c01752f11c7f6d52b82648334e3d317dda8878636542d14ba423b2a8cd8757"
   }
  }
 },
 "nbformat": 4,
 "nbformat_minor": 2
}
