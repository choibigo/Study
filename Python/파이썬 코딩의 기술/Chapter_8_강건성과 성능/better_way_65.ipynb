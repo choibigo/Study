{
 "cells": [
  {
   "cell_type": "markdown",
   "metadata": {},
   "source": [
    "## try/except/else/finally 블록을 잘 활용하라\n"
   ]
  },
  {
   "cell_type": "markdown",
   "metadata": {},
   "source": [
    "#### finally 블록\n",
    "- 예외가 발생해도 실행되야 하는 코드를 작성할 때 사용 한다.\n",
    "- try문에 return문이 있더라고 예외가 발생하면 finally 블록을 먼저 실행한다.\n",
    "- 예외 발생 유무와 관계 없이 실행 되는 블록"
   ]
  },
  {
   "cell_type": "code",
   "execution_count": null,
   "metadata": {},
   "outputs": [],
   "source": [
    "def finally_example():\n",
    "    print('start')\n",
    "\n",
    "    try:\n",
    "        temp = 100/0\n",
    "        return \"End\"\n",
    "    finally:\n",
    "        print(\"Finally Block\")\n",
    "\n",
    "finally_example()"
   ]
  },
  {
   "cell_type": "markdown",
   "metadata": {},
   "source": [
    "#### else 블록\n",
    "- 코드에서 처리할 예외와 호출 스택을 거슬러 올라가며 전달할 예외를 명확히 구분하기 위해 try/cath/else를 사용 해라\n",
    "- try블록이 예외를 발생 시키지 않으면 else 블록을 실행한다.\n",
    "- else 블록을 사용하면 try블록 엔에 들어갈 코드를 최소화 할 수 있다.\n",
    "- try 블록에 들어가는 코드가 줄어 들면 발생하 ㄹ여지가 있는 예외를 서로 구분할 수 있으므로 가독성이 좋아 진다.\n",
    "- 정상 동작시에만 수행 하는 블록"
   ]
  },
  {
   "cell_type": "code",
   "execution_count": null,
   "metadata": {},
   "outputs": [],
   "source": [
    "import json\n",
    "\n",
    "def load_json_key():\n",
    "    data = {\n",
    "        'key1':'value1',\n",
    "        'key2':'value2',\n",
    "        'key3':'value3',\n",
    "        }\n",
    "\n",
    "    data = json.dumps(data)\n",
    "\n",
    "    try:\n",
    "        print(\"json 읽기\")\n",
    "        result_dict = json.loads(data)\n",
    "    except:\n",
    "        raise Exception(\"error 발생\")\n",
    "    else:\n",
    "        print(f\"try정상 실행 후  {result_dict['key2']}\")\n",
    "        # 여기서 예외 발생하면 예외가 발생 한다.\n",
    "\n",
    "load_json_key()"
   ]
  },
  {
   "cell_type": "code",
   "execution_count": 16,
   "metadata": {},
   "outputs": [
    {
     "name": "stdout",
     "output_type": "stream",
     "text": [
      "Start\n",
      "try문 실행\n",
      "finally 문 실행\n"
     ]
    },
    {
     "ename": "ValueError",
     "evalue": "",
     "output_type": "error",
     "traceback": [
      "\u001b[1;31m---------------------------------------------------------------------------\u001b[0m",
      "\u001b[1;31mValueError\u001b[0m                                Traceback (most recent call last)",
      "\u001b[1;32m~\\AppData\\Local\\Temp\\ipykernel_13580\\3092688703.py\u001b[0m in \u001b[0;36m<module>\u001b[1;34m\u001b[0m\n\u001b[0;32m     16\u001b[0m \u001b[1;31m# try 문에서 예외 발생시 except 문과 finally 문이 실행 된다.\u001b[0m\u001b[1;33m\u001b[0m\u001b[1;33m\u001b[0m\u001b[1;33m\u001b[0m\u001b[0m\n\u001b[0;32m     17\u001b[0m \u001b[1;33m\u001b[0m\u001b[0m\n\u001b[1;32m---> 18\u001b[1;33m \u001b[0mtry_except_else_finally\u001b[0m\u001b[1;33m(\u001b[0m\u001b[1;33m)\u001b[0m\u001b[1;33m\u001b[0m\u001b[1;33m\u001b[0m\u001b[0m\n\u001b[0m",
      "\u001b[1;32m~\\AppData\\Local\\Temp\\ipykernel_13580\\3092688703.py\u001b[0m in \u001b[0;36mtry_except_else_finally\u001b[1;34m()\u001b[0m\n\u001b[0;32m      8\u001b[0m         \u001b[0mprint\u001b[0m\u001b[1;33m(\u001b[0m\u001b[1;34m\"except문 실행\"\u001b[0m\u001b[1;33m)\u001b[0m\u001b[1;33m\u001b[0m\u001b[1;33m\u001b[0m\u001b[0m\n\u001b[0;32m      9\u001b[0m     \u001b[1;32melse\u001b[0m\u001b[1;33m:\u001b[0m\u001b[1;33m\u001b[0m\u001b[1;33m\u001b[0m\u001b[0m\n\u001b[1;32m---> 10\u001b[1;33m         \u001b[1;32mraise\u001b[0m \u001b[0mValueError\u001b[0m\u001b[1;33m\u001b[0m\u001b[1;33m\u001b[0m\u001b[0m\n\u001b[0m\u001b[0;32m     11\u001b[0m         \u001b[0mprint\u001b[0m\u001b[1;33m(\u001b[0m\u001b[1;34m\"else 문 실행\"\u001b[0m\u001b[1;33m)\u001b[0m\u001b[1;33m\u001b[0m\u001b[1;33m\u001b[0m\u001b[0m\n\u001b[0;32m     12\u001b[0m     \u001b[1;32mfinally\u001b[0m\u001b[1;33m:\u001b[0m\u001b[1;33m\u001b[0m\u001b[1;33m\u001b[0m\u001b[0m\n",
      "\u001b[1;31mValueError\u001b[0m: "
     ]
    }
   ],
   "source": [
    "def try_except_else_finally():\n",
    "    print(\"Start\")\n",
    "\n",
    "    try:\n",
    "        raise ValueError\n",
    "        print(\"try문 실행\")\n",
    "    except:\n",
    "        print(\"except문 실행\")\n",
    "    else:\n",
    "        print(\"else 문 실행\")\n",
    "    finally:\n",
    "        print(\"finally 문 실행\")\n",
    "\n",
    "# 정상 동작시 else문 실행 후 finally가 실행된다.\n",
    "# try 문에서 예외 발생시 except 문과 finally 문이 실행 된다.\n",
    "\n",
    "try_except_else_finally()"
   ]
  }
 ],
 "metadata": {
  "kernelspec": {
   "display_name": "Python 3.7.4 64-bit",
   "language": "python",
   "name": "python3"
  },
  "language_info": {
   "codemirror_mode": {
    "name": "ipython",
    "version": 3
   },
   "file_extension": ".py",
   "mimetype": "text/x-python",
   "name": "python",
   "nbconvert_exporter": "python",
   "pygments_lexer": "ipython3",
   "version": "3.7.4"
  },
  "orig_nbformat": 4,
  "vscode": {
   "interpreter": {
    "hash": "58c01752f11c7f6d52b82648334e3d317dda8878636542d14ba423b2a8cd8757"
   }
  }
 },
 "nbformat": 4,
 "nbformat_minor": 2
}
