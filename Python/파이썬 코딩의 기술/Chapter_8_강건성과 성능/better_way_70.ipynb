{
 "cells": [
  {
   "cell_type": "markdown",
   "metadata": {},
   "source": [
    "## 최적화하기 전에 프로파일링을 하라\n",
    "- 프로그램을 최적화 하기전에 직관을 무시하고 프로그램 성능을 측정하는 것이다.\n",
    "- 파이썬은 각 부분의 실행 시간을 측정하는 프로파일러를 제공한다.\n",
    "- 순수한 파이썬 프로파일인 profile패키지와 C확장 모듈로 작성된 cProfile이 있다.\n",
    "- cProfile이 프로그램의 성능에 최소로 영향을 미치기 때문에 더 낫다.\n",
    "\n"
   ]
  },
  {
   "cell_type": "code",
   "execution_count": null,
   "metadata": {},
   "outputs": [],
   "source": [
    "from cProfile import Profile\n",
    "\n",
    "def test():\n",
    "    return 10 + 20\n",
    "\n",
    "profile = Profile()\n",
    "profile.runcall(test)\n",
    "\n",
    "from pstats import Stats\n",
    "stats = Stats(profile)\n",
    "stats.sort_stats('cumulative')\n",
    "stats.print_stats()\n"
   ]
  },
  {
   "cell_type": "markdown",
   "metadata": {},
   "source": [
    "```cmd\n",
    "         5048624 function calls in 1.677 seconds\n",
    "\n",
    "   Ordered by: cumulative time\n",
    "\n",
    "   ncalls  tottime  percall  cumtime  percall filename:lineno(function)\n",
    "        1    0.000    0.000    1.677    1.677 c:\\Users\\CBigO\\Desktop\\어려운거\\Study\\test.py:4(test)\n",
    "        1    0.181    0.181    1.455    1.455 c:\\Users\\CBigO\\Desktop\\어려운거\\Study\\test.py:6(<listcomp>)\n",
    "  1000000    0.237    0.000    1.274    0.000 C:\\python374\\lib\\random.py:218(randint)\n",
    "  1000000    0.513    0.000    1.037    0.000 C:\\python374\\lib\\random.py:174(randrange)\n",
    "  1000000    0.368    0.000    0.525    0.000 C:\\python374\\lib\\random.py:224(_randbelow)\n",
    "        1    0.222    0.222    0.222    0.222 {method 'sort' of 'list' objects}\n",
    "  1048620    0.105    0.000    0.105    0.000 {method 'getrandbits' of '_random.Random' objects}\n",
    "  1000000    0.053    0.000    0.053    0.000 {method 'bit_length' of 'int' objects}\n",
    "        1    0.000    0.000    0.000    0.000 {method 'disable' of '_lsprof.Profiler' objects}\n",
    "```\n",
    "\n",
    "- ncalls : 프로파일 기간 동안 함수가 몇번 호출 됬는지 보여 준다.\n",
    "- tottime : 프로파일링 기간 동안 대상 함수를 실행하는 데 걸린 사간의 합계를 보여 준다.\n",
    "- tottime percall : 프로파일링 기간 동안 함수가 호출 될때마다 걸린 시간의 평균을 보여 준다.\n",
    "- cumtime : 함수를 실행할 때 걸린 누적 시간을 보여 준다.\n",
    "- cumtime percall : 프로파일링 기간 동안 함수가 호출 될 때 마다 걸린 누적시간의 평균을 보여 준다. "
   ]
  },
  {
   "cell_type": "code",
   "execution_count": null,
   "metadata": {},
   "outputs": [],
   "source": [
    "from cProfile import Profile\n",
    "import random\n",
    "\n",
    "def my_utility(a,b):\n",
    "    c = 1\n",
    "    for i in range(100):\n",
    "        c += a*b\n",
    "\n",
    "def first_func():\n",
    "    for _ in range(1000):\n",
    "        my_utility(4, 5)\n",
    "\n",
    "\n",
    "def second_func():\n",
    "    for _ in range(10):\n",
    "        my_utility(1, 3)\n",
    "\n",
    "def my_program():\n",
    "    for _ in range(20):\n",
    "        first_func()\n",
    "        second_func()\n",
    "\n",
    "\n",
    "profile = Profile()\n",
    "profile.runcall(my_program)\n",
    "\n",
    "from pstats import Stats\n",
    "stats = Stats(profile)\n",
    "stats.sort_stats('cumulative')\n",
    "# stats.print_stats()\n",
    "stats.print_callers()"
   ]
  },
  {
   "cell_type": "markdown",
   "metadata": {},
   "source": [
    "```cmd\n",
    "Function                                                   was called by...\n",
    "                                                               ncalls  tottime  cumtime\n",
    "c:\\Users\\CBigO\\Desktop\\어려운거\\Study\\test.py:18(my_program)   <-\n",
    "c:\\Users\\CBigO\\Desktop\\어려운거\\Study\\test.py:9(first_func)    <-      20    0.002    0.111  c:\\Users\\CBigO\\Desktop\\어려운거\\Study\\test.py:18(my_program)\n",
    "c:\\Users\\CBigO\\Desktop\\어려운거\\Study\\test.py:4(my_utility)    <-   20000    0.108    0.108  c:\\Users\\CBigO\\Desktop\\어려운거\\Study\\test.py:9(first_func)\n",
    "                                                                  200    0.001    0.001  c:\\Users\\CBigO\\Desktop\\어려운거\\Study\\test.py:14(second_func)\n",
    "c:\\Users\\CBigO\\Desktop\\어려운거\\Study\\test.py:14(second_func)  <-      20    0.000    0.001  c:\\Users\\CBigO\\Desktop\\어려운거\\Study\\test.py:18(my_program)\n",
    "{method 'disable' of '_lsprof.Profiler' objects}           <-\n",
    "```\n",
    "\n",
    "- 어떤 함수가 몇번 불렀는지 알 수 있다."
   ]
  }
 ],
 "metadata": {
  "kernelspec": {
   "display_name": "Python 3.7.4 64-bit",
   "language": "python",
   "name": "python3"
  },
  "language_info": {
   "codemirror_mode": {
    "name": "ipython",
    "version": 3
   },
   "file_extension": ".py",
   "mimetype": "text/x-python",
   "name": "python",
   "nbconvert_exporter": "python",
   "pygments_lexer": "ipython3",
   "version": "3.7.4"
  },
  "orig_nbformat": 4,
  "vscode": {
   "interpreter": {
    "hash": "58c01752f11c7f6d52b82648334e3d317dda8878636542d14ba423b2a8cd8757"
   }
  }
 },
 "nbformat": 4,
 "nbformat_minor": 2
}
