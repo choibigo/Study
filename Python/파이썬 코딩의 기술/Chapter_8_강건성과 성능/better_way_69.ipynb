{
 "cells": [
  {
   "cell_type": "markdown",
   "metadata": {},
   "source": [
    "## 정확도가 매우 중요한 경우에는 decimal을 사용하라\n",
    "- decimal 내장 모듈의 Decimal 클래스를 활용해 소수점 28번째 자리 까지 고정소수점 수 연산을 제공한다.\n",
    "- str과 int/float가 생성자에 전달하는것에 차이가 있다.\n",
    "- str을 넘겼을때 부동소수점 의 근본적인 특성으로 인해 발생하는 정밀도 손실을 막을 수 있다.\n",
    "- 정확한 답이 필요하다면 Decimal 타입 생성자에 str을 사용해야한다."
   ]
  },
  {
   "cell_type": "code",
   "execution_count": 7,
   "metadata": {},
   "outputs": [
    {
     "name": "stdout",
     "output_type": "stream",
     "text": [
      "5.364999999999999\n",
      "5.365\n",
      "0.004166666666666666666666666667\n",
      "0.01\n"
     ]
    }
   ],
   "source": [
    "rate = 1.45\n",
    "seconds = 3*60 + 42\n",
    "cost = rate * seconds / 60\n",
    "print(cost) # 실제 값고 0.000000000001정도 차이가 있다.\n",
    "\n",
    "from decimal import Decimal\n",
    "rate = Decimal('1.45')\n",
    "seconds = Decimal(3*60 + 42)\n",
    "cost = Decimal(rate * seconds / 60)\n",
    "print(cost) # 실제 값과 동일하다.\n",
    "\n",
    "\n",
    "rate = Decimal('0.05')\n",
    "seconds = Decimal('5')\n",
    "cost = rate * seconds / Decimal(60)\n",
    "print(cost) # 값이 너무 작아 소수점 2째자리 에서 만올림 하면 0이 나온다.\n",
    "\n",
    "from decimal import ROUND_UP\n",
    "rounded = cost.quantize(Decimal('0.01'), rounding=ROUND_UP)\n",
    "print(rounded)"
   ]
  }
 ],
 "metadata": {
  "kernelspec": {
   "display_name": "Python 3.7.4 64-bit",
   "language": "python",
   "name": "python3"
  },
  "language_info": {
   "codemirror_mode": {
    "name": "ipython",
    "version": 3
   },
   "file_extension": ".py",
   "mimetype": "text/x-python",
   "name": "python",
   "nbconvert_exporter": "python",
   "pygments_lexer": "ipython3",
   "version": "3.7.4"
  },
  "orig_nbformat": 4,
  "vscode": {
   "interpreter": {
    "hash": "58c01752f11c7f6d52b82648334e3d317dda8878636542d14ba423b2a8cd8757"
   }
  }
 },
 "nbformat": 4,
 "nbformat_minor": 2
}
