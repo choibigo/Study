{
 "cells": [
  {
   "cell_type": "markdown",
   "metadata": {},
   "source": [
    "## 커스텀 컨테이너 타입은 collections.abc를 상속하라\n",
    "- 모든 클래스는 함수와 애트리뷰트를 함께 캡슐화하는 일종의 컨테이너라 할 수 있다.\n",
    "- 파이썬은 데이터를 관리할 때 사용할 수 있도록 리스트, 튜플, 집합 등을 제공한다.\n",
    "- 커스텀 컨테이너를 제대로 구현하려면 수많은 메소드를 구현 해야 한다.\n",
    "- collection.abc에 정의된 인터페이스를 상속하면 커스텀 컨에티너 타입이 정상적으로 작동하기 위해 필요한 인터페이스와 기능을 제대로 구현 할수 있도록 보장한다.\n",
    "- __getitem__과 __len__ 구현만 으로 추가 메소드 구현을 얻을 수 있다."
   ]
  },
  {
   "cell_type": "code",
   "execution_count": 5,
   "metadata": {},
   "outputs": [
    {
     "name": "stdout",
     "output_type": "stream",
     "text": [
      "{'a': 2, 'b': 1, 'c': 1, 'd': 1, 'e': 1, 'f': 1}\n"
     ]
    }
   ],
   "source": [
    "class FrequencyList(list):\n",
    "    def __init__(self, members):\n",
    "        super().__init__(members)\n",
    "        \n",
    "    def freqeuncy(self):\n",
    "        counts = {}\n",
    "        for item in self:\n",
    "            counts[item] = counts.get(item, 0) + 1\n",
    "        \n",
    "        return counts\n",
    "\n",
    "\n",
    "foo = FrequencyList(['a','b','c','d','e','f','a'])\n",
    "print(foo.freqeuncy())"
   ]
  },
  {
   "cell_type": "code",
   "execution_count": 10,
   "metadata": {},
   "outputs": [
    {
     "name": "stdout",
     "output_type": "stream",
     "text": [
      "[11, 22, 33, 44, 55, 66, 77]\n"
     ]
    }
   ],
   "source": [
    "from collections.abc import Sequence\n",
    "\n",
    "class MySequence(Sequence):\n",
    "    def __init__(self):\n",
    "        self.data =[0,11,22,33,44,55,66,77]\n",
    "\n",
    "    def __getitem__(self, index):\n",
    "        return self.data[index]\n",
    "\n",
    "    def __len__(self):\n",
    "        return len(self.data)\n",
    "\n",
    "my_obejct = MySequence()\n",
    "print(my_obejct[1:])"
   ]
  }
 ],
 "metadata": {
  "kernelspec": {
   "display_name": "Python 3.7.4 64-bit",
   "language": "python",
   "name": "python3"
  },
  "language_info": {
   "codemirror_mode": {
    "name": "ipython",
    "version": 3
   },
   "file_extension": ".py",
   "mimetype": "text/x-python",
   "name": "python",
   "nbconvert_exporter": "python",
   "pygments_lexer": "ipython3",
   "version": "3.7.4"
  },
  "orig_nbformat": 4,
  "vscode": {
   "interpreter": {
    "hash": "58c01752f11c7f6d52b82648334e3d317dda8878636542d14ba423b2a8cd8757"
   }
  }
 },
 "nbformat": 4,
 "nbformat_minor": 2
}
