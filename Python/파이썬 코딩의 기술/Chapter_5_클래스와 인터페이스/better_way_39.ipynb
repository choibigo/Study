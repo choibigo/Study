{
 "cells": [
  {
   "cell_type": "markdown",
   "metadata": {},
   "source": [
    "## 객체를 제너릭하게 구성하려면 @classmethod를 통한 다형성을 활용하라\n",
    "- 다형성을 사용하면 계층을 이루는 여러 클래스가 자신에게 맞는 유일한 메서드 버전을 구현할 수 있다.\n",
    "- 같은 추상클래스 기반하는 클래스가 서로 다른 기능을 제공할 수 있다."
   ]
  },
  {
   "cell_type": "markdown",
   "metadata": {},
   "source": [
    "## Instance Method\n",
    "- 클래스에 아무 Decorator 없이 메소드를 선언하면 해당 메소드는 인스턴스 메소드로 취급 된다.\n",
    "- 첫번째 매개 변수로 클래스의 인스턴스가 넘어 온다.\n",
    "- 이름 보통 관행적으로 self라고 한다.\n",
    "- 인스턴스 메소드는 이 self를 통해 인스턴스 attribute에 접근 하거나 다른 인스턴스 메소드를 호출 할 수 있다.\n",
    "- 인스턴스 모세드는 클래스메소드나 정적 메소드와 달리 먼저 인스턴스를 생성한 후에 해당 인스턴스를 대상으로 호출 해야 한다.\n",
    "\n",
    "## Class Method\n",
    "- ```@classmethod``` 데코레이터를 사용해서 클르세어 메소드를 선언하면 해당 메소드는 Class Method가 되며, 첫번째 매개 변수로 클래스 인스턴스가 아닌 클래스 자체가 넘어오게 된다.\n",
    "- 이 첫번째 매개 변수를 관행적으로 ```cls```라고 한다. cls를 통해 클래스 attribute에 접근 하거나 클래스 메소드를 호출 할수 있다.\n",
    "- 인스턴스 메소드와 다르게 인스턴스 속성에 접근하거나 다른 인스턴스 메소드를 호출하는 것은 불가능하다.\n",
    "\n",
    "## Static Method\n",
    "- ```@staticmethod``` 데코레이터를 사용해서 클래스에 메소드를 선언하면 해당 메소드는 정적 메소드가 된다.\n",
    "- 정적 메소드는 인트턴스 메소드나 클래스 메소드와 달리 첫번째 매개변수가 할당 되지 않는다.\n",
    "- 따라서 정적 메소드 내에서 클래스/인스턴스 속성에 접근 하거나 호출하는 것은 불가능 하다.\n",
    "\n",
    "## Class Method VS Static Method\n",
    "- 클래스 메소드와 정적 메소드는 별도 인스턴스 생성 없이 클래스를 대상으로 ```.```를 붙여서 호출할 수 있다는 점은 동일한다.\n",
    "- 차이점은 클래스 메소드를 호출할 떄, 첫번째 인자로 클래스 자체가 넘어 오기 때문에 클래스 속성에 접근 하거나 다른 클래스 함수를 호출 할 수 있다.\n",
    "- 정적 메소드는 첫번째 인자로 아무것도 넘어오지 않기 때문에 명시적으로 넘긴 다른 메소드 인자만 접근할 수 있다."
   ]
  },
  {
   "cell_type": "code",
   "execution_count": 8,
   "metadata": {},
   "outputs": [
    {
     "name": "stdout",
     "output_type": "stream",
     "text": [
      "Email : aaa.naver.com \n",
      "Password : 1234\n",
      "\n",
      "Email : bbb.naver.com \n",
      "Password : 1111\n",
      "\n",
      "Email : ccc.naver.com \n",
      "Password : 4444\n",
      "\n"
     ]
    }
   ],
   "source": [
    "class User:\n",
    "    def __init__(self, email, password):\n",
    "        self.email = email\n",
    "        self.password = password\n",
    "\n",
    "    def __repr__(self):\n",
    "        temp=\"\"\n",
    "        temp += f\"Email : {self.email} \\n\"\n",
    "        temp += f\"Password : {self.password}\\n\"\n",
    "\n",
    "        return temp\n",
    "\n",
    "    @classmethod\n",
    "    def fromTuple(cls, tup):\n",
    "        return cls(tup[0], tup[1])\n",
    "    \n",
    "    @classmethod\n",
    "    def fromDictionary(cls, dic):\n",
    "        return cls(dic['email'], dic['password'])\n",
    "\n",
    "user1 = User(\"aaa.naver.com\", \"1234\")\n",
    "user2 = User.fromTuple((\"bbb.naver.com\", \"1111\"))\n",
    "user3 = User.fromDictionary({'email':\"ccc.naver.com\", 'password': \"4444\"})\n",
    "\n",
    "print(user1)\n",
    "print(user2)\n",
    "print(user3)"
   ]
  }
 ],
 "metadata": {
  "kernelspec": {
   "display_name": "Python 3.7.4 64-bit",
   "language": "python",
   "name": "python3"
  },
  "language_info": {
   "codemirror_mode": {
    "name": "ipython",
    "version": 3
   },
   "file_extension": ".py",
   "mimetype": "text/x-python",
   "name": "python",
   "nbconvert_exporter": "python",
   "pygments_lexer": "ipython3",
   "version": "3.7.4"
  },
  "orig_nbformat": 4,
  "vscode": {
   "interpreter": {
    "hash": "58c01752f11c7f6d52b82648334e3d317dda8878636542d14ba423b2a8cd8757"
   }
  }
 },
 "nbformat": 4,
 "nbformat_minor": 2
}
