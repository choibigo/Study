{
 "cells": [
  {
   "cell_type": "markdown",
   "metadata": {},
   "source": [
    "## 간단한 인터페이스의 경우 클래스 대신 함수를 받아라\n",
    "- 파이썬 내장 API 중 상당수는 함수를 전달해서 동작을 원하는 대로 바꿀 수 있다.\n",
    "- API가 실행되는 과정에서 전달한 함수를 실행하는 경우를 Hook이라 부른다.\n",
    "- sort 메소드에 정렬 시 각 인덱스에 대응하는 비교 값을 결정하는 선택적인 key 인자를 받을 수 있다."
   ]
  },
  {
   "cell_type": "code",
   "execution_count": 2,
   "metadata": {},
   "outputs": [
    {
     "name": "stdout",
     "output_type": "stream",
     "text": [
      "['eeeeeee', 'dddddd', 'ccccc', 'bbbb', 'aaa']\n"
     ]
    }
   ],
   "source": [
    "names = ['aaa','bbbb','ccccc','dddddd','eeeeeee']\n",
    "names.sort(key=len, reverse=True)\n",
    "print(names)"
   ]
  },
  {
   "cell_type": "markdown",
   "metadata": {},
   "source": [
    "- 파이썬 은 인자와 반환값이 잘 정의된 함수를 훅으로 사용하는 경우가 많다.\n",
    "- 파이썬은 함수를 일급 시민 객체로 취급하기 때문에 함수를 훅으로 사용할 수있다.\n",
    "- 일급 시민 객체(first-class citizen) : 언어 안에서 아무런 제약 없이 사용할 수 있는 데이터 값, 함수를 함수의 인자로 넘기거나 반환 하고 변수나 데이터 구조에 저장할 수 있다. 이러한 값을 일급 시민 객체 라고 한다.\n",
    "-  "
   ]
  },
  {
   "cell_type": "code",
   "execution_count": 7,
   "metadata": {},
   "outputs": [
    {
     "name": "stdout",
     "output_type": "stream",
     "text": [
      "Add Key\n",
      "Add Key\n",
      "defaultdict(<function log_missing at 0x00000193943BBAF8>, {'초록': 12, '파랑': 20, '주황': 109, '빨강': 105})\n"
     ]
    }
   ],
   "source": [
    "from collections import defaultdict\n",
    "\n",
    "def log_missing():\n",
    "    print('Add Key')\n",
    "    return 100 #초기값 정의\n",
    "\n",
    "current = {'초록': 12, '파랑': 3}\n",
    "increments = {\n",
    "    ('빨강', 5),\n",
    "    ('파랑', 17),\n",
    "    ('주황', 9),\n",
    "}\n",
    "result = defaultdict(log_missing, current)\n",
    "\n",
    "for key, amount in increments:\n",
    "    result[key] += amount\n",
    "\n",
    "print(result)"
   ]
  },
  {
   "cell_type": "markdown",
   "metadata": {},
   "source": [
    "- 상태를 다루기 위해 추적하고 싶은 상태를 저장하는 작은 클래스를 정의한다.\n",
    "- 클래스 자체만 놓고 보면 CountMissing 클래스의 목적이 무엇인지 알기 어렵다.\n",
    "- 이런경우 더 명확히 포현하기 위해 __call__을 사용하면 객체를 함수처럼 호출 할 수 있다."
   ]
  },
  {
   "cell_type": "code",
   "execution_count": 11,
   "metadata": {},
   "outputs": [
    {
     "name": "stdout",
     "output_type": "stream",
     "text": [
      "2\n"
     ]
    }
   ],
   "source": [
    "class BetterCountMissing:\n",
    "    def __init__(self):\n",
    "        self.added = 0\n",
    "    \n",
    "    def __call__(self):\n",
    "        self.added +=1\n",
    "        return 0\n",
    "    \n",
    "counter = BetterCountMissing()\n",
    "result = defaultdict(counter, {'초록': 12, '파랑': 3})\n",
    "\n",
    "result['aaa'] += 100\n",
    "result['bbb'] += 100\n",
    "print(counter.added)\n"
   ]
  }
 ],
 "metadata": {
  "kernelspec": {
   "display_name": "Python 3.7.4 64-bit",
   "language": "python",
   "name": "python3"
  },
  "language_info": {
   "codemirror_mode": {
    "name": "ipython",
    "version": 3
   },
   "file_extension": ".py",
   "mimetype": "text/x-python",
   "name": "python",
   "nbconvert_exporter": "python",
   "pygments_lexer": "ipython3",
   "version": "3.7.4"
  },
  "orig_nbformat": 4,
  "vscode": {
   "interpreter": {
    "hash": "58c01752f11c7f6d52b82648334e3d317dda8878636542d14ba423b2a8cd8757"
   }
  }
 },
 "nbformat": 4,
 "nbformat_minor": 2
}
