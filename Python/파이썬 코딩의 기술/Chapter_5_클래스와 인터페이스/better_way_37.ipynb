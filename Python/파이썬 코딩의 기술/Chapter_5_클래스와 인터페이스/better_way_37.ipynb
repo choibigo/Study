{
 "cells": [
  {
   "cell_type": "markdown",
   "metadata": {},
   "source": [
    "## 37 내장 타입을 여러 단계로 내포시키기보다는 클래스를 합성 하라\n",
    "- 파이썬 내장 딕셔너리 타입을 사용하면 생명 주기 동안 동적인 내부 상태를 잘 유지할 수 있다.\n",
    "- 동적 : 어떤 값이 들어 올지 미리 알 수 없는 식별자들을 유지 한다."
   ]
  },
  {
   "cell_type": "code",
   "execution_count": 12,
   "metadata": {},
   "outputs": [
    {
     "name": "stdout",
     "output_type": "stream",
     "text": [
      "뉴턴 평균 : 81.25\n"
     ]
    }
   ],
   "source": [
    "from collections import defaultdict\n",
    "\n",
    "class SimpleGradebook:\n",
    "    def __init__(self):\n",
    "        self._grades = {}\n",
    "\n",
    "    def add_student(self, name):\n",
    "        self._grades[name] = defaultdict(list)\n",
    "    \n",
    "    def report_grad(self, name, subject, grade):\n",
    "        by_subject = self._grades[name]\n",
    "        grade_list = by_subject[subject]\n",
    "        grade_list.append(grade)\n",
    "    \n",
    "    def average_grad(self, name):\n",
    "        by_subject = self._grades[name]\n",
    "        total, count = 0, 0\n",
    "        for grades in by_subject.values():\n",
    "            total += sum(grades)\n",
    "            count += len(grades)\n",
    "        return total/count\n",
    "\n",
    "book = SimpleGradebook()\n",
    "book.add_student(\"뉴턴\")\n",
    "book.report_grad(\"뉴턴\", '수학', 75)\n",
    "book.report_grad(\"뉴턴\", '수학', 65)\n",
    "book.report_grad(\"뉴턴\", '과학', 90)\n",
    "book.report_grad(\"뉴턴\", '과학', 95)\n",
    "\n",
    "print(f\"뉴턴 평균 : {book.average_grad('뉴턴')}\")"
   ]
  },
  {
   "cell_type": "markdown",
   "metadata": {},
   "source": [
    "- 클래스 내부에 복잡도가 높아 지면 딕셔너리, 튜플 집합, 리스트 등 내장 타입을 사용하지 말고 클래스 계층 구조를 사용해야 한다.\n",
    "- 코드에서 값을 관리하는 부분이 점점 복잡해 지고 있음을 깨달은 즉시 해당 기능을 클래스로 분리 해야 한다.\n",
    "- 이런 접근 방법을 택하면 인터페이스와 구체적인 구현 사이에 잘 정의된 추상화 계층을 만들 수도 있다."
   ]
  },
  {
   "cell_type": "code",
   "execution_count": null,
   "metadata": {},
   "outputs": [],
   "source": [
    "grades = []\n",
    "grades.append((95, 0.45))\n",
    "grades.append((85, 0.55))\n",
    "total = sum(score*weight for score, weight in grades)\n",
    "total_weight = sum(weight for _,weight in grades)\n",
    "average = total / total_weight"
   ]
  },
  {
   "cell_type": "markdown",
   "metadata": {},
   "source": [
    "- total_weight를 계산 할 떄는 언패킹시 필요 없는 값을 _ 로 표시 해서 첫번째 값을 무시 한다.\n",
    "- 만약 3개의 정보가 튜플정보가 된다면 언패킹을 하는 모든 코드를 수정해야 한다."
   ]
  },
  {
   "cell_type": "code",
   "execution_count": 14,
   "metadata": {},
   "outputs": [
    {
     "name": "stdout",
     "output_type": "stream",
     "text": [
      "89.5\n"
     ]
    }
   ],
   "source": [
    "grades = []\n",
    "grades.append((95, 0.45, \"잘했어요\"))\n",
    "grades.append((85, 0.55, \"조금 더 열심히 해보자\"))\n",
    "total = sum(score*weight for score, weight,_ in grades)\n",
    "total_weight = sum(weight for _,weight,_ in grades)\n",
    "average = total / total_weight\n",
    "print(average)"
   ]
  },
  {
   "cell_type": "markdown",
   "metadata": {},
   "source": [
    "- 원소가 3개 이상인 튜플을 사용한다면 다른 접근 방법을 생각해 봐야 한다.\n",
    "- collection 내장 모듈에 있는 namedtuple 타입이 이런 경우에 딱 들어 맞는다.\n",
    "- namedtuple을 사용하면 작은 불변 데이터 클래스를 쉽게 정의할 수 있다."
   ]
  }
 ],
 "metadata": {
  "kernelspec": {
   "display_name": "Python 3.7.4 64-bit",
   "language": "python",
   "name": "python3"
  },
  "language_info": {
   "codemirror_mode": {
    "name": "ipython",
    "version": 3
   },
   "file_extension": ".py",
   "mimetype": "text/x-python",
   "name": "python",
   "nbconvert_exporter": "python",
   "pygments_lexer": "ipython3",
   "version": "3.7.4"
  },
  "orig_nbformat": 4,
  "vscode": {
   "interpreter": {
    "hash": "58c01752f11c7f6d52b82648334e3d317dda8878636542d14ba423b2a8cd8757"
   }
  }
 },
 "nbformat": 4,
 "nbformat_minor": 2
}
