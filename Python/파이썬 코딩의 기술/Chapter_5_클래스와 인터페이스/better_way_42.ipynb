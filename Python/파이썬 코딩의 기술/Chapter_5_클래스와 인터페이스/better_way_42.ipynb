{
 "cells": [
  {
   "cell_type": "markdown",
   "metadata": {},
   "source": [
    "## 비공개 애트리뷰터보다는 공개 애트리뷰트를 사용하라\n",
    "- 파이썬에서 클래스의 애트리뷰트는 public과 private 두가지 밖에 없다.\n",
    "- 애트리뷰트 이름 앞에 밑줄을 두개(__)붙이면 비공개 필드가 된다.\n",
    "- 비공개 필드를 포함하는 클래스 안에 있는 메소드 안에서는 해당 필드에 직접 적븐 할 수 있다.\n",
    "- 클래스 외부에서 접근하면 예외가 발생 한다.\n",
    "\n",
    "## 동작 방식\n",
    "- 비공개 애트리뷰트의 동작은 애트리뷰트 이름을 바꾸는 단순한 방식으로 구현된다.\n",
    "- __priavate_field 라는 애트리뷰트를 접근 코드는 _MyClass__private_filed라는 이름으로 바꾼다.\n",
    "- 이 방식을 적용해서 변수에 접근 한다면 접근 가능하다.\n",
    "- 파이썬은 확장의 가능성을 열어둠으로써 얻을수 있는 이익이 손해보다 크다고 판단 했기 때문에 이렇게 개발됬다."
   ]
  },
  {
   "cell_type": "code",
   "execution_count": 3,
   "metadata": {},
   "outputs": [
    {
     "name": "stdout",
     "output_type": "stream",
     "text": [
      "999\n",
      "0\n",
      "0\n"
     ]
    }
   ],
   "source": [
    "class MyClass:\n",
    "    def __init__(self):\n",
    "        self.public_attribute = 999\n",
    "        self.__private_attribute = 0\n",
    "\n",
    "    def get_private_attribute(self):\n",
    "        return self.__private_attribute\n",
    "\n",
    "    @classmethod\n",
    "    def get_class_method_private_attribute(cls, instance):\n",
    "        # 클래스 메소드는 자신을 둘러싸고 있는 class 블록 내부에 들어 있기 때문에 private 변수에 접근 가능하다.\n",
    "        return instance.__private_attribute\n",
    "\n",
    "my_instance = MyClass()\n",
    "print(my_instance.public_attribute)\n",
    "print(my_instance.get_private_attribute())\n",
    "print(MyClass.get_class_method_private_attribute(my_instance))"
   ]
  }
 ],
 "metadata": {
  "kernelspec": {
   "display_name": "Python 3.7.4 64-bit",
   "language": "python",
   "name": "python3"
  },
  "language_info": {
   "codemirror_mode": {
    "name": "ipython",
    "version": 3
   },
   "file_extension": ".py",
   "mimetype": "text/x-python",
   "name": "python",
   "nbconvert_exporter": "python",
   "pygments_lexer": "ipython3",
   "version": "3.7.4"
  },
  "orig_nbformat": 4,
  "vscode": {
   "interpreter": {
    "hash": "58c01752f11c7f6d52b82648334e3d317dda8878636542d14ba423b2a8cd8757"
   }
  }
 },
 "nbformat": 4,
 "nbformat_minor": 2
}
