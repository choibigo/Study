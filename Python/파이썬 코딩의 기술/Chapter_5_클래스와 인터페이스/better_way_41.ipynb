{
 "cells": [
  {
   "cell_type": "markdown",
   "metadata": {},
   "source": [
    "## 기능을 합성할 떄는 믹스인 클래스를 사용하라\n",
    "- 다중 상속이 제공하는 편의와 캡슐화가 필요하지만 다중 상속으로 인해 발생 할 수 있는 문제를 피하고 싶으면 **mix-in**을 사용할지 고려 해라.\n",
    "- 믹스인은 자식 클래스가 사용할 메소드 몇 개만 정의하는 클래스 이다\n",
    "- 믹스인 클래스 자체는 애트리뷰트 정의가 없으므로 믹스인 클래스는 __init__을 호출할 필요도 없다."
   ]
  }
 ],
 "metadata": {
  "kernelspec": {
   "display_name": "Python 3.7.4 64-bit",
   "language": "python",
   "name": "python3"
  },
  "language_info": {
   "name": "python",
   "version": "3.7.4"
  },
  "orig_nbformat": 4,
  "vscode": {
   "interpreter": {
    "hash": "58c01752f11c7f6d52b82648334e3d317dda8878636542d14ba423b2a8cd8757"
   }
  }
 },
 "nbformat": 4,
 "nbformat_minor": 2
}
