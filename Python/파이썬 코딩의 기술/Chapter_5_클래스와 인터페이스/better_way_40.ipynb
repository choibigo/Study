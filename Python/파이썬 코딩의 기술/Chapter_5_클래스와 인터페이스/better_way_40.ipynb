{
 "cells": [
  {
   "cell_type": "markdown",
   "metadata": {},
   "source": [
    "## Super로 부모 클래스를 초기화 하라\n",
    "- 자식 클래스에서 부모 클래스를 초기화하는 오래된 방법은 바로 자식 인스턴스에서 부모 클래스의 __init__을 직접 호출하는 것이다.\n",
    "- 다중 삭속을 받은 경우 부모의 __init__ 메소드를 직접 호출하면 프로그램이 예측할 수 없는 방식으로 동작할 수 있다.\n",
    "- 모든 하위 클래스에서 __init__ 호출 순서가 정해져 있지 않다. \n",
    "- 클래스 정의에서 부모 클래스를 나열한 순서와 부모 클래스의 생성자를 호출하는 수서가 일치하지 않는다.\n",
    "- 생성자 호출 순서가 달라서 생기는 문제는 발견하기 쉽지 않으며, 코드를 처음 보고 이해하기 어려울 수 있다.\n",
    "- 다이아몬드 상속으로 인해 문제가 생길 수 있다.\n",
    "- Base 클래스를 상속받은 A,B 클래스를 둘다 상속 받을 때, A에서 생성자 호출시 Base클래스에 정의된 인스턴스 속성 값들이 B 생성자 호출시 모두 무시 될 수 있다.\n",
    "- super에 파라미터를 제공하는 경우는 자식 클래스에서 상위클래스의 특정 기능에 접근해야하는 경우 뿐이다."
   ]
  },
  {
   "cell_type": "code",
   "execution_count": 10,
   "metadata": {},
   "outputs": [
    {
     "name": "stdout",
     "output_type": "stream",
     "text": [
      "<class '__main__.ThisWay'>\n",
      "최상위 호출\n",
      "7 * (5 + 9) = 44 이지만 실제로는 98가 나옴\n"
     ]
    }
   ],
   "source": [
    "# class MyBaseClass:\n",
    "#     def __init__(slef, value):\n",
    "#         slef.value = value\n",
    "#         print(\"최상위 호출\")\n",
    "\n",
    "# class TimeSeven(MyBaseClass):\n",
    "#     def __init__(self, value):\n",
    "#         MyBaseClass.__init__(self, value)\n",
    "#         self.value *= 7\n",
    "\n",
    "# class PlusNine(MyBaseClass):\n",
    "#     def __init__(self, value):\n",
    "#         MyBaseClass.__init__(self, value)\n",
    "#         self.value += 9\n",
    "\n",
    "# class ThisWay(TimeSeven, PlusNine):\n",
    "#     def __init__(self, value):\n",
    "#         TimeSeven.__init__(self, value)\n",
    "#         PlusNine.__init__(self, value)\n",
    "\n",
    "# foo = ThisWay(5) #최상위 함수가 2번 호출 된다.\n",
    "# print(f\"(5 * 7) + 9 = 44 이지만 실제로는 {foo.value}가 나옴\") # 최상위 함수 생성자가 2번 호출 되면서 기존에 저장된 self.value 값을 덮어버린다.\n",
    "\n",
    "class MyBaseClass:\n",
    "    def __init__(slef, value):\n",
    "        slef.value = value\n",
    "        print(\"최상위 호출\")\n",
    "\n",
    "class TimeSeven(MyBaseClass):\n",
    "    def __init__(self, value):\n",
    "        super().__init__(value)\n",
    "        self.value *= 7\n",
    "\n",
    "class PlusNine(MyBaseClass):\n",
    "    def __init__(self, value):\n",
    "        super().__init__(value)\n",
    "        self.value += 9\n",
    "\n",
    "class ThisWay(TimeSeven, PlusNine):\n",
    "    def __init__(self, value):\n",
    "        super().__init__(value) # 다중 상속 이여도 1줄의 코드로 호출 가능하다.\n",
    "        # super(ThisWay, self).__init__(value) # 위와 동일\n",
    "        # super(__class__, self).__init__(value) # 위와 동일\n",
    "        \n",
    "foo = ThisWay(5)\n",
    "print(f\"7 * (5 + 9) = 44 이지만 실제로는 {foo.value}가 나옴\")\n"
   ]
  }
 ],
 "metadata": {
  "kernelspec": {
   "display_name": "Python 3.7.4 64-bit",
   "language": "python",
   "name": "python3"
  },
  "language_info": {
   "codemirror_mode": {
    "name": "ipython",
    "version": 3
   },
   "file_extension": ".py",
   "mimetype": "text/x-python",
   "name": "python",
   "nbconvert_exporter": "python",
   "pygments_lexer": "ipython3",
   "version": "3.7.4"
  },
  "orig_nbformat": 4,
  "vscode": {
   "interpreter": {
    "hash": "58c01752f11c7f6d52b82648334e3d317dda8878636542d14ba423b2a8cd8757"
   }
  }
 },
 "nbformat": 4,
 "nbformat_minor": 2
}
