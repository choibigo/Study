{
 "cells": [
  {
   "cell_type": "markdown",
   "metadata": {},
   "source": [
    "## 세터와 게터 메소드 대신 평범한 애트리뷰트를 사용하라\n",
    "- getter와 setter를 명시적으로 정의할 수 있으나 파이썬 답지 않다.\n",
    "- getter와 setter대신 단순히 공개 애트리뷰트부터 구현을 시작해라\n",
    "- 애트리뷰트가 설정 될 떄 특정 기능을 수행 해야 한다면 @property 데코레이터를 정의 하라\n",
    "- "
   ]
  },
  {
   "cell_type": "code",
   "execution_count": null,
   "metadata": {},
   "outputs": [],
   "source": [
    "class Resistor:\n",
    "    def __init__(self, ohms):\n",
    "        self.ohms = ohms\n",
    "        self._voltage = 0\n",
    "        self.current = 0\n",
    "\n",
    "class VoltageResistrance(Resistor):\n",
    "    def __init__(self, ohms):\n",
    "        super().__init__(ohms)\n",
    "        self._voltage = 0\n",
    "\n",
    "    @property\n",
    "    # voltate 애트리뷰트 프로퍼티를 정의 한다.\n",
    "    def voltage(self):\n",
    "        print(\"getter 를 굳이 정의 하지 않아도 된다.\")\n",
    "        return self._voltage\n",
    "\n",
    "    @voltage.setter\n",
    "    # 의도한 프로퍼티 이름과 동일 해야 한다.\n",
    "    def voltage(self, voltage):\n",
    "        self._voltage = voltage\n",
    "        self.current = self._voltage / self.ohms\n",
    "\n",
    "    # @voltage.getter\n",
    "    # def voltage(self):\n",
    "    #     print(\"getter 정의\")\n",
    "    #     return self._voltage\n",
    "\n",
    "    @property\n",
    "    def ohms(self):\n",
    "        print(\"ohms property getter\")\n",
    "        return self._ohms\n",
    "\n",
    "    @ohms.setter\n",
    "    def ohms(self, new_ohms):\n",
    "        if new_ohms <=0:\n",
    "            raise ValueError(\"0보다 커야해\")        \n",
    "        self._ohms = new_ohms\n",
    "\n",
    "r2 = VoltageResistrance(1e3)\n",
    "print(f'이전: {r2.current:.2f}')\n",
    "r2.voltage = 10\n",
    "print(f'이후: {r2.current:.2f}')\n",
    "\n",
    "a = r2.voltage\n",
    "print(a)\n",
    "\n",
    "# print(f'이전: {r2.ohms:.2f}')\n",
    "# r2.ohms = 100\n",
    "# print(f'이후: {r2.ohms:.2f}')\n",
    "\n",
    "    "
   ]
  }
 ],
 "metadata": {
  "kernelspec": {
   "display_name": "Python 3.7.4 64-bit",
   "language": "python",
   "name": "python3"
  },
  "language_info": {
   "codemirror_mode": {
    "name": "ipython",
    "version": 3
   },
   "file_extension": ".py",
   "mimetype": "text/x-python",
   "name": "python",
   "nbconvert_exporter": "python",
   "pygments_lexer": "ipython3",
   "version": "3.7.4"
  },
  "orig_nbformat": 4,
  "vscode": {
   "interpreter": {
    "hash": "58c01752f11c7f6d52b82648334e3d317dda8878636542d14ba423b2a8cd8757"
   }
  }
 },
 "nbformat": 4,
 "nbformat_minor": 2
}
