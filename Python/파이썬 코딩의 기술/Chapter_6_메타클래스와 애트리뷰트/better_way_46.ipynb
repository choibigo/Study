{
 "cells": [
  {
   "cell_type": "markdown",
   "metadata": {},
   "source": [
    "## 재사용 가능한 @property를 만들려면 디스크립터를 사용하라\n",
    "\n",
    "- @property 가 데코레이션하는 메소드를 같은 클래스에 속하는 여러 애트리뷰트로 사용할 수 없다.\n",
    "- 서로 무관한 클래스 사이에서 @property 데코리에터를 적용한 메소드를 재사용할 수 없다.\n",
    "- 파이썬 디스크립터 프로토콜은 파이썬 언어에서 애트리뷰트 접근을 해석하는 방법을 정의 한다.\n",
    "- __get__, __set__ 메소드를 제공하고 이 두 메소드는 별다른 준비 코드 없이도 원하는 동작을 재사용 할 수 있다."
   ]
  },
  {
   "cell_type": "code",
   "execution_count": 2,
   "metadata": {},
   "outputs": [
    {
     "name": "stdout",
     "output_type": "stream",
     "text": [
      "점수: 95\n"
     ]
    }
   ],
   "source": [
    "class Homework:\n",
    "    def __init__(self):\n",
    "        self._grade = 0\n",
    "    \n",
    "    @property\n",
    "    def grad(self):\n",
    "        return self._grade\n",
    "    \n",
    "    @grad.setter\n",
    "    def grad(self, value):\n",
    "        if not (0<=value<=100):\n",
    "            raise ValueError(\"범위 초과\")\n",
    "        self._grade = value\n",
    "\n",
    "    def __repr__(self):\n",
    "        temp = \"\"\n",
    "        temp += f\"점수: {self._grade}\"\n",
    "\n",
    "        return temp\n",
    "\n",
    "galileo = Homework()\n",
    "galileo.grad = 95\n",
    "\n",
    "print(galileo)\n"
   ]
  },
  {
   "cell_type": "code",
   "execution_count": null,
   "metadata": {},
   "outputs": [],
   "source": [
    "class Grade:\n",
    "    def __init__(self):\n",
    "        self._value = 0\n",
    "\n",
    "    def __get__(self, instance, instance_type):\n",
    "        return self._value\n",
    "    \n",
    "    def __set__(self, instance, value):\n",
    "        if not(0<=value<=100):\n",
    "            raise ValueError(\"Error\")\n",
    "        self._value = value\n",
    "\n",
    "        "
   ]
  }
 ],
 "metadata": {
  "kernelspec": {
   "display_name": "Python 3.7.4 64-bit",
   "language": "python",
   "name": "python3"
  },
  "language_info": {
   "codemirror_mode": {
    "name": "ipython",
    "version": 3
   },
   "file_extension": ".py",
   "mimetype": "text/x-python",
   "name": "python",
   "nbconvert_exporter": "python",
   "pygments_lexer": "ipython3",
   "version": "3.7.4"
  },
  "orig_nbformat": 4,
  "vscode": {
   "interpreter": {
    "hash": "58c01752f11c7f6d52b82648334e3d317dda8878636542d14ba423b2a8cd8757"
   }
  }
 },
 "nbformat": 4,
 "nbformat_minor": 2
}
