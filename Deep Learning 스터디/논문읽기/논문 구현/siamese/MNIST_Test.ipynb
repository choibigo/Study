{
 "cells": [
  {
   "cell_type": "code",
   "execution_count": 1,
   "metadata": {
    "collapsed": true,
    "pycharm": {
     "name": "#%%\n"
    }
   },
   "outputs": [],
   "source": [
    "import os\n",
    "from glob import glob\n",
    "import random\n",
    "\n",
    "import torch\n",
    "from torchvision import datasets as dset\n",
    "from torchvision import transforms\n",
    "from matplotlib import pyplot as plt\n",
    "from torch.utils.data import DataLoader, Dataset\n",
    "from tqdm.notebook import tqdm\n",
    "\n",
    "from siamesenet import SiameseNet\n",
    "from arguments import get_config"
   ]
  },
  {
   "cell_type": "markdown",
   "metadata": {
    "collapsed": false,
    "pycharm": {
     "name": "#%% md\n"
    }
   },
   "source": [
    "Download MNIST data"
   ]
  },
  {
   "cell_type": "code",
   "execution_count": 2,
   "metadata": {
    "collapsed": false,
    "pycharm": {
     "name": "#%%\n"
    }
   },
   "outputs": [],
   "source": [
    "transformer = transforms.Compose([\n",
    "                    transforms.Resize(105),\n",
    "                    transforms.ToTensor(),\n",
    "                    transforms.Normalize(mean=0.5,std=0.5)])\n",
    "\n",
    "# If you run this code first time, make 'download' option True\n",
    "test_data = dset.MNIST(root='MNIST_data/',train=False,transform=transformer, download=False)"
   ]
  },
  {
   "cell_type": "code",
   "execution_count": 3,
   "metadata": {
    "collapsed": false,
    "pycharm": {
     "name": "#%%\n"
    }
   },
   "outputs": [
    {
     "data": {
      "image/png": "[encoded data removed]",
      "text/plain": [
       "<Figure size 432x288 with 1 Axes>"
      ]
     },
     "metadata": {
      "needs_background": "light"
     },
     "output_type": "display_data"
    },
    {
     "name": "stdout",
     "output_type": "stream",
     "text": [
      "torch.Size([1, 105, 105])\n",
      "number of test data: 10000\n"
     ]
    }
   ],
   "source": [
    "test_image, test_label = test_data[0]\n",
    "\n",
    "plt.imshow(test_image.squeeze().numpy(), cmap='gray')\n",
    "plt.title('%i' % test_label)\n",
    "plt.show()\n",
    "\n",
    "print(test_image.size())\n",
    "print('number of test data:', len(test_data))"
   ]
  },
  {
   "cell_type": "markdown",
   "metadata": {
    "collapsed": false
   },
   "source": [
    "Make Dataloader"
   ]
  },
  {
   "cell_type": "code",
   "execution_count": 4,
   "metadata": {
    "collapsed": false,
    "pycharm": {
     "name": "#%%\n"
    }
   },
   "outputs": [],
   "source": [
    "class MNISTTest(Dataset):\n",
    "    def __init__(self, dataset,trial):\n",
    "        self.dataset = dataset\n",
    "        self.trial = trial\n",
    "        if trial > 950:\n",
    "            self.trial = 950\n",
    "\n",
    "    def __len__(self):\n",
    "        return self.trial * 10\n",
    "\n",
    "    def __getitem__(self, index):\n",
    "        share, remain = divmod(index,10)\n",
    "        label = (share//10)%10\n",
    "        image1 = self.dataset[label][share][0]\n",
    "        image2 = self.dataset[remain][random.randrange(len(self.dataset[remain]))][0]\n",
    "\n",
    "        return image1, image2, label"
   ]
  },
  {
   "cell_type": "code",
   "execution_count": 5,
   "metadata": {
    "collapsed": false,
    "pycharm": {
     "name": "#%%\n"
    }
   },
   "outputs": [
    {
     "data": {
      "application/vnd.jupyter.widget-view+json": {
       "model_id": "de053f6a59884db490c634c3dd8b89aa",
       "version_major": 2,
       "version_minor": 0
      },
      "text/plain": [
       "  0%|          | 0/10000 [00:00<?, ?it/s]"
      ]
     },
     "metadata": {},
     "output_type": "display_data"
    }
   ],
   "source": [
    "image_by_num = [[],[],[],[],[],[],[],[],[],[]]\n",
    "for x,y in tqdm(test_data):\n",
    "    image_by_num[y].append(x)\n",
    "\n",
    "test_data1 = MNISTTest(image_by_num,trial=950) #MAX trial = 950\n",
    "test_loader = DataLoader(test_data1, batch_size=10)"
   ]
  },
  {
   "cell_type": "markdown",
   "metadata": {
    "collapsed": false,
    "pycharm": {
     "name": "#%% md\n"
    }
   },
   "source": [
    "Declare model and configuration"
   ]
  },
  {
   "cell_type": "code",
   "execution_count": 13,
   "metadata": {
    "collapsed": false,
    "pycharm": {
     "name": "#%%\n"
    }
   },
   "outputs": [
    {
     "name": "stdout",
     "output_type": "stream",
     "text": [
      "[*] use GPU Quadro RTX 4000\n"
     ]
    }
   ],
   "source": [
    "config = get_config()\n",
    "config.num_model = \"1\"\n",
    "config.logs_dir = \"./result/1\"\n",
    "model = SiameseNet()\n",
    "is_best = False\n",
    "device = 'cuda' if torch.cuda.is_available() else 'cpu'"
   ]
  },
  {
   "cell_type": "markdown",
   "metadata": {
    "collapsed": false,
    "pycharm": {
     "name": "#%% md\n"
    }
   },
   "source": [
    "Load trained model"
   ]
  },
  {
   "cell_type": "code",
   "execution_count": 18,
   "metadata": {
    "collapsed": false,
    "pycharm": {
     "name": "#%%\n"
    }
   },
   "outputs": [
    {
     "name": "stdout",
     "output_type": "stream",
     "text": [
      "[*] Load model model_ckpt_50.pt, best accuracy 0.903125\n"
     ]
    }
   ],
   "source": [
    "if is_best:\n",
    "    model_path = os.path.join(config.logs_dir, './models/best_model.pt')\n",
    "else:\n",
    "    model_path = sorted(glob(config.logs_dir + './models/model_ckpt_*.pt'), key=len)[-1]\n",
    "\n",
    "ckpt = torch.load(model_path)\n",
    "\n",
    "model.load_state_dict(ckpt['model_state'])\n",
    "model.to(device)\n",
    "print(f\"[*] Load model {os.path.basename(model_path)}, best accuracy {ckpt['best_valid_acc']}\")"
   ]
  },
  {
   "cell_type": "markdown",
   "metadata": {
    "collapsed": false,
    "pycharm": {
     "name": "#%% md\n"
    }
   },
   "source": [
    "Test"
   ]
  },
  {
   "cell_type": "code",
   "execution_count": 19,
   "metadata": {
    "collapsed": false,
    "pycharm": {
     "name": "#%%\n"
    }
   },
   "outputs": [
    {
     "name": "stdout",
     "output_type": "stream",
     "text": [
      "[*] Test on 950 pairs.\n",
      "Test Acc: 296/950 (31.16%)\n"
     ]
    },
    {
     "data": {
      "application/vnd.jupyter.widget-view+json": {
       "model_id": "c915a8fc439241449655c905b8a12384",
       "version_major": 2,
       "version_minor": 0
      },
      "text/plain": [
       "Test:   0%|          | 0/950 [00:00<?, ?it/s]"
      ]
     },
     "metadata": {},
     "output_type": "display_data"
    }
   ],
   "source": [
    "correct_sum = 0\n",
    "num_test = len(test_loader)\n",
    "print(f\"[*] Test on {num_test} pairs.\")\n",
    "\n",
    "pbar = tqdm(enumerate(test_loader), total=num_test, desc=\"Test\")\n",
    "for i, (x1, x2, y) in pbar:\n",
    "    # plt.figure(figsize=(20,7))\n",
    "    # plt.subplot(1,4,1)\n",
    "    # plt.title(\"Target\")\n",
    "    # plt.imshow(x1[0].squeeze().numpy(), cmap='gray')\n",
    "    #\n",
    "    # s = 2\n",
    "    # for idx in range(10):\n",
    "    #     plt.subplot(3,4,s)\n",
    "    #     plt.title(idx)\n",
    "    #     plt.imshow(x2[idx].squeeze().numpy(), cmap='gray')\n",
    "    #     s += 1\n",
    "    #     if s % 4 == 1:\n",
    "    #         s += 1\n",
    "    # plt.show()\n",
    "    # break\n",
    "\n",
    "    if torch.cuda.is_available():\n",
    "        x1, x2, y = x1.to(device), x2.to(device), y.to(device)\n",
    "    x1, x2 = x1.unsqueeze(1), x2.unsqueeze(1)\n",
    "\n",
    "    # compute log probabilities\n",
    "    out = model(x1, x2)\n",
    "    y_pred = torch.sigmoid(out)\n",
    "    y_pred = torch.argmax(y_pred)\n",
    "    if y_pred == y[0].item():\n",
    "        correct_sum += 1\n",
    "\n",
    "    pbar.set_postfix_str(f\"accuracy: {correct_sum} / {num_test}\")\n",
    "\n",
    "test_acc = (100. * correct_sum) / num_test\n",
    "print(f\"Test Acc: {correct_sum}/{num_test} ({test_acc:.2f}%)\")"
   ]
  }
 ],
 "metadata": {
  "kernelspec": {
   "display_name": "Python 3",
   "language": "python",
   "name": "python3"
  },
  "language_info": {
   "codemirror_mode": {
    "name": "ipython",
    "version": 2
   },
   "file_extension": ".py",
   "mimetype": "text/x-python",
   "name": "python",
   "nbconvert_exporter": "python",
   "pygments_lexer": "ipython2",
   "version": "2.7.6"
  }
 },
 "nbformat": 4,
 "nbformat_minor": 0
}
