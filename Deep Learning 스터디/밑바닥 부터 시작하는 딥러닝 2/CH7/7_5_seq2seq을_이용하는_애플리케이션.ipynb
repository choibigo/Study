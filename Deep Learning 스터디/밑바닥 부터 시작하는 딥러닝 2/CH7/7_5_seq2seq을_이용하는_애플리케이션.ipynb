{
 "cells": [
  {
   "cell_type": "markdown",
   "metadata": {},
   "source": [
    "## 7.5 seq2seq를 이용하는 애플리 케이션\n",
    "- seq2seq는 '한 시계열 데이터'를 '다른 시계열 데이터'로 변환한다.\n",
    "- 이 시계열 데이터를 변환하는 프레임워크는 다양한 문제에 적용할 수 있습니다.\n",
    "- 기계번역, 자동요약, 질의응답, 메일 자동 응답 등\n",
    "- 자연어 외에도 음성이나 영상 등에도 이용할 수 있다.\n",
    "\n",
    "#### 7.5.3 이미지 캡셔닝\n",
    "\n",
    "![image](https://github.com/choibigo/Study/assets/38881179/cffdca45-444e-47dd-9763-863ba20e2ab5)\n",
    "\n",
    "- 이미지 캡셔닝은 Encoder가 CNN 형태로 바뀐것 이다.\n",
    "- 기존 seq2seq에서는 문장을 벡터 형태로 바꿨다, 이미지 캡셔닝에서는 이미지를 CNN을 통과시켜 벡터 형태로 만든다, CNN의 output은 1차원 벡터가 아니기 때문에 Affine 계층을 통과시켜 1차원형태로 변경한다.\n",
    "- 이후 Decoder를 통과시켜 벡터를 문장 형태로 바꿀 수 있다."
   ]
  }
 ],
 "metadata": {
  "kernelspec": {
   "display_name": "python310",
   "language": "python",
   "name": "python3"
  },
  "language_info": {
   "codemirror_mode": {
    "name": "ipython",
    "version": 3
   },
   "file_extension": ".py",
   "mimetype": "text/x-python",
   "name": "python",
   "nbconvert_exporter": "python",
   "pygments_lexer": "ipython3",
   "version": "3.10.12"
  },
  "orig_nbformat": 4
 },
 "nbformat": 4,
 "nbformat_minor": 2
}
