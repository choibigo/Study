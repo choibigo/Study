{
 "cells": [
  {
   "cell_type": "markdown",
   "metadata": {},
   "source": [
    "## 2.3 통계 기반 기법\n",
    "- 말뭉치(Corpus)는 대량의 텍스트 데이터 이다.\n",
    "- 맹목적으로 수집된 텍스트 데이터가 아닌 자연어 처리 연구나 애플리케이션을 염두에 두고 수집된 텍스트 데이터이다.\n",
    "- Corpus에는 자연어에 대한 사람의 '지식'이 충분히 담겨 있다고 볼 수 있다."
   ]
  },
  {
   "cell_type": "markdown",
   "metadata": {},
   "source": [
    "#### 2.3.1 파이썬으로 말뭉치 전처리하기\n",
    "- 다양한 문장이 말뭉치로 사용될 수 있다, 위키백과, 구글 뉴스, 소설 등\n",
    "- 전처리란 텍스트 데이터를 단어로 분할하고 그 분할된 단어들을 단어 ID 목록으로 변환하는 일이다.\n",
    "- '통계 기반 기법'을 이용해 단어를 벡터로 표현할 수 있다, 그 전에 문장을 전처리 해야한다."
   ]
  },
  {
   "cell_type": "code",
   "execution_count": 1,
   "metadata": {},
   "outputs": [
    {
     "name": "stdout",
     "output_type": "stream",
     "text": [
      "[0 1 2 3 4 1 5 6]\n",
      "{'you': 0, 'say': 1, 'goodbye': 2, 'and': 3, 'i': 4, 'hello': 5, '.': 6}\n",
      "{0: 'you', 1: 'say', 2: 'goodbye', 3: 'and', 4: 'i', 5: 'hello', 6: '.'}\n"
     ]
    }
   ],
   "source": [
    "import numpy as np\n",
    "\n",
    "def preprocess(text):\n",
    "    # text => words => id list\n",
    "\n",
    "    text = text.lower()\n",
    "    text = text.replace('.',' .')\n",
    "\n",
    "    words = text.split(' ')# 문장을 단어 형태로 분할\n",
    "\n",
    "    # 단어에 ID를 부여하고 ID의 리스트로 이용할 수 있도록 손질한다.\n",
    "    word_to_id = {} # 단어로 ID 찾기\n",
    "    id_to_word = {} # ID로 단어 찾기\n",
    "\n",
    "    for word in words:\n",
    "        if word not in word_to_id:\n",
    "            new_id = len(word_to_id)\n",
    "            word_to_id[word] = new_id\n",
    "            id_to_word[new_id] = word\n",
    "\n",
    "    corpus = np.array([word_to_id[idx] for idx in words])\n",
    "\n",
    "    return corpus, word_to_id, id_to_word\n",
    "\n",
    "text = 'You say goodbye and I say hello.'\n",
    "corpus, word_to_id, id_to_word= preprocess(text)\n",
    "print(corpus)\n",
    "print(word_to_id)\n",
    "print(id_to_word)\n"
   ]
  },
  {
   "cell_type": "markdown",
   "metadata": {},
   "source": [
    "#### 2.3.2 단어의 분산 표현\n",
    "- 색상을 RGB로 표현한다면 더 정확하게 명시 할 수 있다, 또한 비슷한 색인지 판단 여부도 벡터를 이용한다면 쉽게 판단할 수 있다.\n",
    "- 단어를 벡터로 표현함으로써 '단어의 의미'를 정확하게 나타낼 수 있다, 이를 단어의 '분산 표현'이라 한다.\n",
    "\n",
    "#### 2.3.3 분포 가설\n",
    "- 단어의 의미는 주변 단어에 의해 형성된다, 이를 분포 가설(Distribution Hypotheis)라 한다.\n",
    "- 단어 자체는 의미가 없고, 그 단어가 사용된 '맥락'이 의미를 형성한다는 것이다.\n",
    "- \"We drink wine\", \"We drink beer\"처럼 drink 주변에는 음료가 등장하기 쉬우며 \"We guzzle wine\", \"We guzzle beer\"을 보면 drink와 guzzle이 같은 맥락에서 사용된 것을 볼 수 있다.\n",
    "- 따라서 \"drink\"와 \"guzzle\"은 같은 의미로 파악 할 수 있다.\n",
    "\n",
    "![image](https://github.com/choibigo/Study/assets/38881179/ec26ef9b-a540-49b8-a508-9dbc52caeec4)\n",
    "\n",
    "- 주변에 단어가 '맥락'에 해당 된다.\n",
    "- 맥락의 크기를 Window size라고 한다.\n",
    "\n",
    "#### 2.3.4 동시발생 행렬\n",
    "- 분포 가설에 기초해 단어를 벡터로 나타내는 방법으로 '주변 단어를 세어 보는'방법이 자연스럽게 떠오른다.\n",
    "- 어떠 단어에 주목했을 때, 그 주변에 어떤 단어가 몇번이나 등장하는지를 세어 집계하는 방법이다.\n",
    "- 이를 통계 기반 기법이라 한다.\n",
    "- 동시발생 행렬을 이용하면 단어를 벡터로 표현할 수 있다.\n",
    "\n",
    "![image](https://github.com/choibigo/Study/assets/38881179/72c1b01c-5402-48cf-812f-2bbbe74e66da)\n",
    "![image](https://github.com/choibigo/Study/assets/38881179/fa40c3d0-8ecc-4782-a794-80b7018c08d4)\n",
    "\n",
    "- You 주변에 단어들을 (맥락) 파악하여 표로 정리할 수 있다.\n",
    "\n",
    "![image](https://github.com/choibigo/Study/assets/38881179/619c112e-cc41-40b5-bbba-cc42904e4363)\n",
    "\n",
    "- 모든 ID에 대해서 맥락을 파악할 수 있다, 이를 동시발생 행렬 이라고 한다."
   ]
  },
  {
   "cell_type": "code",
   "execution_count": 2,
   "metadata": {},
   "outputs": [
    {
     "name": "stdout",
     "output_type": "stream",
     "text": [
      "[[0 1 0 0 0 0 0]\n",
      " [1 0 1 0 1 1 0]\n",
      " [0 1 0 1 0 0 0]\n",
      " [0 0 1 0 1 0 0]\n",
      " [0 1 0 1 0 0 0]\n",
      " [0 1 0 0 0 0 1]\n",
      " [0 0 0 0 0 1 0]]\n"
     ]
    }
   ],
   "source": [
    "def create_co_matrix(corpus, vocab_size, window_size=1):\n",
    "    # corpus: 단어 ID의 리스트, 어휘 수: corpus에서 사용된 단어 수, 윈도우 크기 이다.\n",
    "    corpus_size = len(corpus)\n",
    "    co_matrix = np.zeros((vocab_size, vocab_size), dtype=np.int32)\n",
    "\n",
    "    for idx, word_id in enumerate(corpus):\n",
    "        for i in range(1, window_size + 1):\n",
    "            left_idx = idx - i\n",
    "            right_idx = idx + i\n",
    "\n",
    "            if left_idx >= 0:\n",
    "                left_word_id = corpus[left_idx]\n",
    "                co_matrix[word_id, left_word_id]+=1\n",
    "            \n",
    "            if right_idx < corpus_size:\n",
    "                right_word_id = corpus[right_idx]\n",
    "                co_matrix[word_id, right_word_id]+=1\n",
    "            \n",
    "    return co_matrix\n",
    "\n",
    "co_matrix = create_co_matrix(corpus, len(word_to_id), 1)\n",
    "print(co_matrix)"
   ]
  },
  {
   "cell_type": "markdown",
   "metadata": {},
   "source": [
    "#### 2.3.5 벡터 간 유사도\n",
    "- 벡터간 유사도를 나타낼 떄는 코사인 유사도를 이용한다.\n",
    "\n",
    "![image](https://github.com/choibigo/Study/assets/38881179/cad6bd68-3e34-45b0-942e-9c2dc596d25b)\n",
    "\n",
    "#### Cosine Similarity\n",
    "- 두 벡터의 유사도를 의미하며 동일한 경우 1, 90°의 각을 이루면 0, 180°로 반대 방향을 가지면 -1을 갖는다\n",
    "- 두 벡터가 가리키는 방향이 얼마나 유사한가를 의미한다.\n",
    "- cosin 이 사이의 각도 인데 사이의 각도가 0 에 가까울 수록 방향이 겹치는 것으로 해석할 수 있다."
   ]
  },
  {
   "cell_type": "code",
   "execution_count": 3,
   "metadata": {},
   "outputs": [
    {
     "name": "stdout",
     "output_type": "stream",
     "text": [
      "0.7071067691154799\n"
     ]
    }
   ],
   "source": [
    "def cos_similarity(x, y):\n",
    "    esp = 1e-8\n",
    "    nx = x / ((np.sqrt(np.sum(x ** 2)))+ esp)\n",
    "    ny = y / ((np.sqrt(np.sum(y ** 2)))+ esp)\n",
    "\n",
    "    # 벡터를 정규화 한 이후에 내적을 하여 코사인 유사도를 구했다 (위 식과 같다고함)\n",
    "\n",
    "    return np.dot(nx, ny)\n",
    "\n",
    "c0 = co_matrix[word_to_id['you']] # \"you\"의 단어 벡터 - [0 1 0 0 0 0 0]\n",
    "c1 = co_matrix[word_to_id['i']] # \"you\"의 단어 벡터 - [0 1 0 1 0 0 0]\n",
    "\n",
    "print(cos_similarity(c0, c1))"
   ]
  },
  {
   "cell_type": "markdown",
   "metadata": {},
   "source": [
    "#### 2.3.6 유사 단어의 랭킹 표시\n",
    "- 어떤 단어가 주어지면, 그 단어와 비슷한 단어를 유사도 순으로 출력하는 함수를 구해보자"
   ]
  },
  {
   "cell_type": "code",
   "execution_count": 29,
   "metadata": {},
   "outputs": [
    {
     "ename": "IndexError",
     "evalue": "index 316 is out of bounds for axis 0 with size 7",
     "output_type": "error",
     "traceback": [
      "\u001b[1;31m---------------------------------------------------------------------------\u001b[0m",
      "\u001b[1;31mIndexError\u001b[0m                                Traceback (most recent call last)",
      "Cell \u001b[1;32mIn[29], line 37\u001b[0m\n\u001b[0;32m     31\u001b[0m         \u001b[39mif\u001b[39;00m top_count \u001b[39m>\u001b[39m\u001b[39m=\u001b[39m top:\n\u001b[0;32m     32\u001b[0m             \u001b[39mreturn\u001b[39;00m\n\u001b[1;32m---> 37\u001b[0m most_similar(\u001b[39m\"\u001b[39;49m\u001b[39myou\u001b[39;49m\u001b[39m\"\u001b[39;49m, word_to_id, id_to_word, co_matrix)\n\u001b[0;32m     38\u001b[0m \u001b[39m'''\u001b[39;00m\n\u001b[0;32m     39\u001b[0m \u001b[39mgoodbye: 0.7071067691154799\u001b[39;00m\n\u001b[0;32m     40\u001b[0m \u001b[39mi: 0.7071067691154799\u001b[39;00m\n\u001b[1;32m   (...)\u001b[0m\n\u001b[0;32m     46\u001b[0m \u001b[39mi와 you가 유사하다는 것은 이해가 가지만 나머지는 이상하다, 이는 corpus가 너무 작아서 나타나는 현상이다.\u001b[39;00m\n\u001b[0;32m     47\u001b[0m \u001b[39m'''\u001b[39;00m\n",
      "Cell \u001b[1;32mIn[29], line 16\u001b[0m, in \u001b[0;36mmost_similar\u001b[1;34m(query, word_to_id, id_to_word, word_matrix, top)\u001b[0m\n\u001b[0;32m     14\u001b[0m \u001b[39m# 검색어 정보\u001b[39;00m\n\u001b[0;32m     15\u001b[0m query_id \u001b[39m=\u001b[39m word_to_id[query]\n\u001b[1;32m---> 16\u001b[0m query_vec \u001b[39m=\u001b[39m word_matrix[query_id]\n\u001b[0;32m     18\u001b[0m \u001b[39m# 모든 벡터에 대해 코사인 유사도 계산\u001b[39;00m\n\u001b[0;32m     19\u001b[0m vocab_size \u001b[39m=\u001b[39m \u001b[39mlen\u001b[39m(id_to_word)\n",
      "\u001b[1;31mIndexError\u001b[0m: index 316 is out of bounds for axis 0 with size 7"
     ]
    }
   ],
   "source": [
    "def most_similar(query, word_to_id, id_to_word, word_matrix, top=5):\n",
    "    '''\n",
    "    query : 검색어\n",
    "    word_to_id : 단어에서 단어 ID로의 딕션어리\n",
    "    id_to_word : 단어 ID에서 단어로의 딕션어리\n",
    "    word_matrix : 단어 벡터들을 한데 모은 행렬 (여기서는 co_matrix 사용, 여러 기법을 통해 단어 벡터를 나타낼 수 있다봄)\n",
    "    top : 상위 몇개까지 출력할 것인지 결정\n",
    "    '''\n",
    "\n",
    "    if query not in word_to_id:\n",
    "        print(f\"쿼리({query})가 딕셔너리에 없음\")\n",
    "        return\n",
    "    \n",
    "    # 검색어 정보\n",
    "    query_id = word_to_id[query]\n",
    "    query_vec = word_matrix[query_id]\n",
    "\n",
    "    # 모든 벡터에 대해 코사인 유사도 계산\n",
    "    vocab_size = len(id_to_word)\n",
    "    similarity = np.zeros(vocab_size)\n",
    "    for i in range(vocab_size):\n",
    "        similarity[i] = cos_similarity(query_vec, word_matrix[i])\n",
    "    \n",
    "    # 코사인 유사도 기준으로 내림차순 정렬\n",
    "    for top_count, i in enumerate((-1 * similarity).argsort()):\n",
    "        if id_to_word[i] == query:\n",
    "            continue\n",
    "\n",
    "        print(f\"{id_to_word[i]}: {similarity[i]}\")\n",
    "        \n",
    "        if top_count >= top:\n",
    "            return\n",
    "        \n",
    "        \n",
    "\n",
    "\n",
    "most_similar(\"you\", word_to_id, id_to_word, co_matrix)\n",
    "'''\n",
    "goodbye: 0.7071067691154799\n",
    "i: 0.7071067691154799\n",
    "hello: 0.7071067691154799\n",
    "say: 0.0\n",
    "and: 0.0\n",
    "\n",
    "처럼 나타 났다.\n",
    "i와 you가 유사하다는 것은 이해가 가지만 나머지는 이상하다, 이는 corpus가 너무 작아서 나타나는 현상이다.\n",
    "'''\n"
   ]
  },
  {
   "cell_type": "markdown",
   "metadata": {},
   "source": [
    "## 통계 기반 기법 개선하기\n",
    "- 단어의 동시발생 행렬은 만들었다.\n",
    "- 동시발생 행렬에는 아직 개선할 점이 있다\n",
    "- 이를 통해 더 실용적인 말뭉치를 사용하여 '진짜'단어의 분산 표현을 할 수 있다.\n",
    "\n",
    "#### 2.4.1 상호정보량\n",
    "- 동시발생 행렬의 원소는 두 단어가 동시에(window size내 발생) 발생한 횟수를 나타낸다.\n",
    "- \"발생\" 횟수라는 것은 좋은 특징은 아니다, 고빈도 단어를 보면 바로 확인할 수 있다.\n",
    "- \"the\"와 \"car\"의 동시발생을 생각해 보면 분명 \"... the car...\"라는 문구가 자주 보일 것이다. 따라서 the와 car가 상관 관계가 높다고 판단할 수 있다.\n",
    "- 그러나 실제 언어에서는 the와 car 관게보다 car와 drive 관련이 더 깊다.\n",
    "- 단순히 등장 횟수만 본다면 car는 drive보다 the와의 관련성이 훨씬 높다고 판단 될 수 있다.\n",
    "- 이 문제를 해결하기 위해 점별 상호 정보량(Pointwise Mutual Information)이라는 척도를 사용할 수 있다.\n",
    "\n",
    "![image](https://github.com/choibigo/Study/assets/38881179/20340e2b-5c86-4619-bede-7d7f4227068e)\n",
    "\n",
    "- P(x)는 x가 일어날 확률, P(y)는 y가 일어날 확률, P(x, y)는 x와 y가 동시에 일어날 확률을 의미한다.이 PMI 값이 높다면 관련성이 높다는 의미이다.\n",
    "- P(x)는 x가 말뭉치에 등장할 확률을 가리킨다.\n",
    "- 예를 들어 10000개의 단어로 이루어진 말뭉치에 \"the\"가 100번 등장한다면 P(\"the\")는 100/10000 = 0.01이다.\n",
    "- \"the\"와 \"car\"가 10번 동시발생했다면 P(\"the\", \"car\") = 10 / 10000= 0.001이 되는 것이다.\n",
    "- C(x)를 동시 발생 횟수로 했을때 식을 재정의할 수 있다.\n",
    "\n",
    "![image](https://github.com/choibigo/Study/assets/38881179/29bd68d7-e8c9-4fd8-9dc9-f9885a6b3021)\n",
    "\n",
    "- 이때 corpus에 포함된 단어의 수가 N이다.(전체 단어의 총 동시발생 횟수)\n",
    "- 총 단어수 : 10000\n",
    "- \"the\" : 1000\n",
    "- \"car\" : 20\n",
    "- \"drive\": 10\n",
    "- \"the\" & \"car\" : 10 \n",
    "- \"car\" & \"drive\" : 5 \n",
    "- 동시발생 횟수 관점에서는 \"car\"는 \"drive\"보다 \"the\"와 관련이 더 깊다고 말할 수 있다.\n",
    "\n",
    "![image](https://github.com/choibigo/Study/assets/38881179/4cee6014-8009-4399-b3fc-c7126bb46904)\n",
    "![image](https://github.com/choibigo/Study/assets/38881179/cd2d9e29-7f15-4670-a9e3-9b093f966d2f)\n",
    "\n",
    "- PMI를 사용한다면 \"car\"와 \"drive\"가 더 관련이 깊다고 나온다.\n",
    "- 이러한 이유는 단어가 단독으로 출현하는 횟수가 고려 되었기 때문이다\n",
    "- 반대로 말하면 동시발생 횟수의 문제점은 단어가 단독으로 출현하는 경우를 고려하지 않았기 때문에 성능이 좋지않다.\n",
    "- PMI를 그대로 사용한다면 동시발생횟수가 0 일때 -∞가 된다.\n",
    "- 따라서 양의정보량(Positive PMI: PPMI)를 사용한다.\n",
    "- PPMI(x,y) = max(0, PMI(x,y))\n",
    "- PMI가 음수일 때는 0으로 취급한다.\n",
    "- PPMI의 각 원소는 0 이상이다.\n",
    "- 동시발행 행렬보다 더 좋은 척도가 된다.\n",
    "- PPMI의 큰 문제점은 벡터의 차원이 증가함에 따라 차원의 수도 증가 하게 된다.\n",
    "- 예를 들어 corpus가 10만이라면 벡터의 차원수도 10만이 된다, 10만 차원의 벡터를 다룬다는 것은 현실적이지 않다.\n",
    "- PPMI 행렬을 보면 대부분이 0인것을 알 수 있다 즉, 벡터 원소 대부분이 중요하지 않다는 것이다. 다르게 포현하면 대부분의 원소의 '중요도'가 낮다는 것이다.\n",
    "- 이런 벡터는 노이즈에 약하고 견고하지 못한 약점도 있다.\n",
    "- 이러한 문제를 해결하고자 자주 수행하는 것이 벡터의 차원 감소이다."
   ]
  },
  {
   "cell_type": "code",
   "execution_count": 22,
   "metadata": {},
   "outputs": [
    {
     "name": "stdout",
     "output_type": "stream",
     "text": [
      "PPMI Calculate END\n",
      "[[0.        1.8073549 0.        0.        0.        0.        0.       ]\n",
      " [1.8073549 0.        0.8073549 0.        0.8073549 0.8073549 0.       ]\n",
      " [0.        0.8073549 0.        1.8073549 0.        0.        0.       ]\n",
      " [0.        0.        1.8073549 0.        1.8073549 0.        0.       ]\n",
      " [0.        0.8073549 0.        1.8073549 0.        0.        0.       ]\n",
      " [0.        0.8073549 0.        0.        0.        0.        2.807355 ]\n",
      " [0.        0.        0.        0.        0.        2.807355  0.       ]]\n"
     ]
    }
   ],
   "source": [
    "def ppmi(C, verbose=False):\n",
    "    '''\n",
    "    C: co_matrix\n",
    "    verbose(=말 수가 많은): 진행상황 출력 여부\n",
    "    '''\n",
    "    M = np.zeros_like(C, dtype=np.float32)\n",
    "    N = np.sum(C)\n",
    "    S = np.sum(C, axis=0)\n",
    "    total = C.shape[0] * C.shape[1]\n",
    "    cnt = 0\n",
    "\n",
    "    for i in range(C.shape[0]):\n",
    "        for j in range(C.shape[1]):\n",
    "            pmi = np.log2(C[i,j] * N / (S[j]*S[i]) + 1e-8)\n",
    "            M[i,j] = max(0, pmi)\n",
    "\n",
    "            if verbose:\n",
    "                cnt += 1\n",
    "                if cnt % (total//100) == 0:\n",
    "                    print(f'{(100*cnt/total):.2f}% 완료')\n",
    "\n",
    "    print(\"PPMI Calculate END\")\n",
    "\n",
    "    return M\n",
    "\n",
    "ppmi_matrix = ppmi(co_matrix)\n",
    "\n",
    "print(ppmi_matrix)"
   ]
  },
  {
   "cell_type": "markdown",
   "metadata": {},
   "source": [
    "#### 2.4.2 차원감소\n",
    "- 차원 감소는 문자 그대로 벡터의 차원을 줄이는 방법을 말한다.\n",
    "- 단순히 차원을 줄이는게 아니라, '중요한 정보'는 최대한 유지하면서 줄이는 게 핵심이다.\n",
    "\n",
    "![image](https://github.com/choibigo/Study/assets/38881179/e219d7d9-70bf-4eb4-889a-c752b49ea35c)\n",
    "\n",
    "- 위 그림처럼 데이터의 분포를 고려해 중요한 '축'을 찾는 일을 수행한다.\n",
    "- 중요한 축을 찾는 다면 각데이터를 축에 사영 시켜 데이터를 축소할 수 있다. (위그림에서는 1차원 으로 표현할 수 있다.)\n",
    "- 여기서 가장 중요한 것은 데이터를 가장 잘 표현하는 축을 찾는 것이다.\n",
    "- 차원을 감소 시키는 방법은 SVD를 통해할 수 있다.\n",
    "\n",
    "#### 2.4.3 SVD에 의한 차원 감소\n",
    "- SVD는 numpy의 linalg 모듈로 실행 할 수 있다. \n",
    "\n",
    "![image](https://github.com/choibigo/Study/assets/38881179/3a937dff-6df2-480e-ac2a-fadc20450608)\n",
    "\n",
    "- SVD를 이용하여 임의의 행렬을 세 행렬의 곱으로 분해하여 표현할 수 있다.\n",
    "- U와 V는 직교 행렬이고, 그 열벡터는 서로 직교한다.\n",
    "- S는 대각행렬로 eigen value 의 집합이다.\n",
    "\n",
    "![image](https://github.com/choibigo/Study/assets/38881179/a49d555e-4f78-4260-928c-ebf130de6f72)\n",
    "\n",
    "- U는 직교 행렬로 이 행렬을 '단어 공간'으로 취급할 수 있다.\n",
    "- egien value순으로 정렬 되어 나오기 때문에 그 순서가 데이터의 미치는 중요도 순으로 나온다.\n",
    "- 중요도가 낮은 벡터를 줄여서 차원을 축소 할 수 있다.\n",
    "\n",
    "![image](https://github.com/choibigo/Study/assets/38881179/3d5151da-ea8f-4a6c-bd26-ef4c97dfbea6)\n",
    "\n",
    "- 원래 단어를 SVD 한 이후에 U의 열벡터를 깍아서 (실제로는 s의 원소(eigen value)가 작은 애들을 없애는것) 데이터를 근사할 수 있다.\n",
    "- x의 각 행에는 해당 단어 ID의 단어 벡터가 저장되어 있으며, 그 단어 벡터가 U'라는 차원 감소된 벡터로 표현되는 것이다.\n",
    "\n",
    "#### 희소 표현\n",
    "- 원-핫 벡터로 데이터를 표현하면 단어의 인덱스만 1이고 나머지인덱스는 모두 0이다.\n",
    "- 단어 집합이 클수록 고차원의 벡터가 되고 대부분이 0이다.\n",
    "- 이때 이러한 벡터 표현은 공간적 낭비가 된다.\n",
    "- 이러한 표현 방법을 희소 표현이라하며 이렇게 표현된 벡털르 희소 벡터라고 한다.\n",
    "\n",
    "#### 밀집 벡터\n",
    "- 희소 벡터와 반대되는 개념이다.\n",
    "- 1000개의 단어를 원핫 벡터로 1000차원으로 표현 했을떄 차원 축소를 해 128 차원으로 표현 했다면 모든 벡터의 원소가 실수 값이 된다. 이때 벡터의 차원이 더 조밀해 졌다고 한다."
   ]
  },
  {
   "cell_type": "code",
   "execution_count": 6,
   "metadata": {},
   "outputs": [
    {
     "name": "stdout",
     "output_type": "stream",
     "text": [
      "[0.        1.8073549 0.        0.        0.        0.        0.       ]\n",
      "[ 3.4094876e-01 -1.1102230e-16 -1.2051624e-01 -3.3306691e-16\n",
      " -9.3232495e-01  0.0000000e+00 -2.4257469e-17]\n",
      "[[ 3.4094876e-01 -1.1102230e-16 -1.2051624e-01 -3.3306691e-16\n",
      "  -9.3232495e-01  0.0000000e+00 -2.4257469e-17]\n",
      " [ 0.0000000e+00 -5.9763640e-01  0.0000000e+00  1.8023790e-01\n",
      "   0.0000000e+00 -7.8124583e-01  0.0000000e+00]]\n"
     ]
    },
    {
     "data": {
      "image/png": "[encoded data removed]",
      "text/plain": [
       "<Figure size 640x480 with 1 Axes>"
      ]
     },
     "metadata": {},
     "output_type": "display_data"
    },
    {
     "data": {
      "text/plain": [
       "'\\n- goodby와 hello가 가깝고 you와 i가 가까운 것을 확인할 수 있다.\\n'"
      ]
     },
     "execution_count": 6,
     "metadata": {},
     "output_type": "execute_result"
    }
   ],
   "source": [
    "import matplotlib.pyplot as plt\n",
    "\n",
    "\n",
    "U, S, V = np.linalg.svd(ppmi_matrix) # ppmi의 결과의 대부분은 0으로 채워져 있기 때문에 차원 축소를 해서 표현하는 것이 효율적이다\n",
    "\n",
    "print(ppmi_matrix[0])\n",
    "print(U[0]) # 0 이었던 값들이 실수 값으로 채워지면서 밀집 벡터가 됬다.\n",
    "print(U[0 :2]) # 차원 축소를 하기 위해 처음 2개의 원소를 꺼내면 된다(Eigen value 순으로 정렬 되있기 때문)\n",
    "\n",
    "for word, word_id in word_to_id.items():\n",
    "    plt.annotate(word, (U[word_id, 0], U[word_id, 1]))\n",
    "\n",
    "plt.scatter(U[:,0], U[:,1], alpha=0.5)\n",
    "plt.show()\n",
    "'''\n",
    "- goodby와 hello가 가깝고 you와 i가 가까운 것을 확인할 수 있다.\n",
    "'''"
   ]
  },
  {
   "cell_type": "markdown",
   "metadata": {},
   "source": [
    "#### 2.4.4 PTB 데이터셋\n",
    "- PTB corpus는 텍스트 파일로 제공되며, 원래의 PTB 문장에 전처리를 해둔 상태이다.\n",
    "- 문장이 하나의 줄로 저장되어 있다.\n",
    "- 각 문장을 연결한 하나의 큰 시계열 데이터로 취급할 수 있다, 이때 각 문장 끝에는 <eos>라는 특수 문자를 삽입한다."
   ]
  },
  {
   "cell_type": "code",
   "execution_count": 14,
   "metadata": {},
   "outputs": [
    {
     "name": "stdout",
     "output_type": "stream",
     "text": [
      "말뭉치 크기: 929589\n",
      "corpus[:30]: [ 0  1  2  3  4  5  6  7  8  9 10 11 12 13 14 15 16 17 18 19 20 21 22 23\n",
      " 24 25 26 27 28 29]\n",
      "\n",
      "id_to_word[0]: aer\n",
      "id_to_word[1]: banknote\n",
      "id_to_word[2]: berlitz\n",
      "\n",
      "word_to_id['car']: 3856\n",
      "word_to_id['happy']: 4428\n",
      "word_to_id['lexus']: 7426\n"
     ]
    }
   ],
   "source": [
    "import sys\n",
    "# sys.path.append('../data_set')\n",
    "sys.path.append('..')\n",
    "\n",
    "from data_set import ptb\n",
    "\n",
    "corpus, word_to_id, id_to_word = ptb.load_data('train') # ptb를 읽어서 corpus, word_to_id, id_to_word 반환 함수\n",
    "\n",
    "print(f\"말뭉치 크기: {len(corpus)}\")\n",
    "print(f\"corpus[:30]: {corpus[:30]}\")\n",
    "print()\n",
    "print(f\"id_to_word[0]: {id_to_word[0]}\")\n",
    "print(f\"id_to_word[1]: {id_to_word[1]}\")\n",
    "print(f\"id_to_word[2]: {id_to_word[2]}\")\n",
    "print()\n",
    "print(f\"word_to_id['car']: {word_to_id['car']}\")\n",
    "print(f\"word_to_id['happy']: {word_to_id['happy']}\")\n",
    "print(f\"word_to_id['lexus']: {word_to_id['lexus']}\")\n",
    "\n"
   ]
  },
  {
   "cell_type": "markdown",
   "metadata": {},
   "source": [
    "#### 2.4.5 PTB 데이터셋 평가\n",
    "- 큰행렬에 SVD를 적용해야 함으로 고속 SVD를 적용한다.\n",
    "- sklearn 모듈을 설치하여 SVD를 사용할 수 있다."
   ]
  },
  {
   "cell_type": "code",
   "execution_count": 23,
   "metadata": {},
   "outputs": [
    {
     "name": "stderr",
     "output_type": "stream",
     "text": [
      "C:\\Users\\cbigo\\AppData\\Local\\Temp\\ipykernel_20724\\2148773683.py:14: RuntimeWarning: overflow encountered in scalar multiply\n",
      "  pmi = np.log2(C[i,j] * N / (S[j]*S[i]) + 1e-8)\n",
      "C:\\Users\\cbigo\\AppData\\Local\\Temp\\ipykernel_20724\\2148773683.py:14: RuntimeWarning: invalid value encountered in log2\n",
      "  pmi = np.log2(C[i,j] * N / (S[j]*S[i]) + 1e-8)\n"
     ]
    },
    {
     "name": "stdout",
     "output_type": "stream",
     "text": [
      "1.00% 완료\n",
      "2.00% 완료\n",
      "3.00% 완료\n",
      "4.00% 완료\n",
      "5.00% 완료\n",
      "6.00% 완료\n",
      "7.00% 완료\n",
      "8.00% 완료\n",
      "9.00% 완료\n",
      "10.00% 완료\n",
      "11.00% 완료\n",
      "12.00% 완료\n",
      "13.00% 완료\n",
      "14.00% 완료\n",
      "15.00% 완료\n",
      "16.00% 완료\n",
      "17.00% 완료\n",
      "18.00% 완료\n",
      "19.00% 완료\n",
      "20.00% 완료\n",
      "21.00% 완료\n",
      "22.00% 완료\n",
      "23.00% 완료\n",
      "24.00% 완료\n",
      "25.00% 완료\n",
      "26.00% 완료\n",
      "27.00% 완료\n",
      "28.00% 완료\n",
      "29.00% 완료\n",
      "30.00% 완료\n",
      "31.00% 완료\n",
      "32.00% 완료\n",
      "33.00% 완료\n",
      "34.00% 완료\n",
      "35.00% 완료\n",
      "36.00% 완료\n",
      "37.00% 완료\n",
      "38.00% 완료\n",
      "39.00% 완료\n",
      "40.00% 완료\n",
      "41.00% 완료\n",
      "42.00% 완료\n",
      "43.00% 완료\n",
      "44.00% 완료\n",
      "45.00% 완료\n",
      "46.00% 완료\n",
      "47.00% 완료\n",
      "48.00% 완료\n",
      "49.00% 완료\n",
      "50.00% 완료\n",
      "51.00% 완료\n",
      "52.00% 완료\n",
      "53.00% 완료\n",
      "54.00% 완료\n",
      "55.00% 완료\n",
      "56.00% 완료\n",
      "57.00% 완료\n",
      "58.00% 완료\n",
      "59.00% 완료\n",
      "60.00% 완료\n",
      "61.00% 완료\n",
      "62.00% 완료\n",
      "63.00% 완료\n",
      "64.00% 완료\n",
      "65.00% 완료\n",
      "66.00% 완료\n",
      "67.00% 완료\n",
      "68.00% 완료\n",
      "69.00% 완료\n",
      "70.00% 완료\n",
      "71.00% 완료\n",
      "72.00% 완료\n",
      "73.00% 완료\n",
      "74.00% 완료\n",
      "75.00% 완료\n",
      "76.00% 완료\n",
      "77.00% 완료\n",
      "78.00% 완료\n",
      "79.00% 완료\n",
      "80.00% 완료\n",
      "81.00% 완료\n",
      "82.00% 완료\n",
      "83.00% 완료\n",
      "84.00% 완료\n",
      "85.00% 완료\n",
      "86.00% 완료\n",
      "87.00% 완료\n",
      "88.00% 완료\n",
      "89.00% 완료\n",
      "90.00% 완료\n",
      "91.00% 완료\n",
      "92.00% 완료\n",
      "93.00% 완료\n",
      "94.00% 완료\n",
      "95.00% 완료\n",
      "96.00% 완료\n",
      "97.00% 완료\n",
      "98.00% 완료\n",
      "99.00% 완료\n",
      "100.00% 완료\n",
      "PPMI Calculate END\n"
     ]
    }
   ],
   "source": [
    "import sys\n",
    "sys.path.append('..')\n",
    "import numpy as np\n",
    "from data_set import ptb\n",
    "\n",
    "window_size = 2 # 동시 발생 계산시 window 크기\n",
    "wordvec_size = 100 # 압축 차원\n",
    "\n",
    "corpus, word_to_id, id_to_word = ptb.load_data('train')\n",
    "vocab_size = len(word_to_id)\n",
    "\n",
    "# 동시발생 수 계산\n",
    "C = create_co_matrix(corpus, vocab_size, window_size)\n",
    "\n",
    "# PPMI 계산\n",
    "W = ppmi(C, True)\n"
   ]
  },
  {
   "cell_type": "code",
   "execution_count": 30,
   "metadata": {},
   "outputs": [
    {
     "name": "stdout",
     "output_type": "stream",
     "text": [
      "[you]\n",
      "i: 0.7025728225708008\n",
      "we: 0.6673679947853088\n",
      "do: 0.6136865019798279\n",
      "anybody: 0.6042898297309875\n",
      "'d: 0.5212484002113342\n",
      "\n",
      "[year]\n",
      "earlier: 0.6588015556335449\n",
      "month: 0.6476756930351257\n",
      "quarter: 0.6124095916748047\n",
      "fiscal: 0.5512375831604004\n",
      "last: 0.5508217811584473\n",
      "\n",
      "[car]\n",
      "auto: 0.6499615907669067\n",
      "luxury: 0.5790735483169556\n",
      "corsica: 0.567619264125824\n",
      "vehicle: 0.528739333152771\n",
      "gm: 0.5130618810653687\n",
      "\n",
      "[toyota]\n",
      "motor: 0.76077800989151\n",
      "motors: 0.6462806463241577\n",
      "nissan: 0.6405166387557983\n",
      "honda: 0.6358739137649536\n",
      "mazda: 0.6281181573867798\n",
      "\n"
     ]
    }
   ],
   "source": [
    "# SVD 계산\n",
    "from sklearn.utils.extmath import randomized_svd\n",
    "\n",
    "U, S, V = randomized_svd(W, n_components=wordvec_size, n_iter=5, random_state=None)\n",
    "\n",
    "word_vecs = U[:, : wordvec_size] # word vector 차원 축소\n",
    "\n",
    "querys = ['you', 'year', 'car', 'toyota']\n",
    "\n",
    "for query in querys:\n",
    "    print(f\"[{query}]\")\n",
    "    most_similar(query, word_to_id, id_to_word, word_vecs, top=5) # 각 query와 유사한 단어 5개 씩을 출력해 준다.\n",
    "    print()\n",
    "    "
   ]
  },
  {
   "cell_type": "markdown",
   "metadata": {},
   "source": [
    "## 2.5 정리\n",
    "- 자연어를 대상으로 컴퓨터에게 '단어의 의미'를 이해 시키기 위해서 시소러스, 통계 기반 기법이 있다.\n",
    "- 시소러스 기반 기법은 단어들의 관련성을 사람이 수작업으로 하나씩 정의 한다.\n",
    "- 이 작업은 비용이 많이 들고 표현력에도 한계가 있다.\n",
    "- 통계 기반 기법은 말뭉치로부터 단어의 의미를 자동으로 추출하고, 그 의미를 벡터로 표현한다.\n",
    "- 단어의 동시발생 행렬을 만들고 PPMI 행렬로 변환한 다음, 안전성을 높이기 위해 SVD를 이용해 차원을 감소시켜 각 단어의 분산표현을 만들어 낸다."
   ]
  }
 ],
 "metadata": {
  "kernelspec": {
   "display_name": "python310",
   "language": "python",
   "name": "python3"
  },
  "language_info": {
   "codemirror_mode": {
    "name": "ipython",
    "version": 3
   },
   "file_extension": ".py",
   "mimetype": "text/x-python",
   "name": "python",
   "nbconvert_exporter": "python",
   "pygments_lexer": "ipython3",
   "version": "3.10.12"
  },
  "orig_nbformat": 4
 },
 "nbformat": 4,
 "nbformat_minor": 2
}
